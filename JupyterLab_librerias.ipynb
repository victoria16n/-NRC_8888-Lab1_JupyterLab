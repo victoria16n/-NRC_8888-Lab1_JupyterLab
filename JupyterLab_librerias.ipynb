{
 "cells": [
  {
   "cell_type": "markdown",
   "id": "cca64a99-67e5-48e8-806d-fa469b623e57",
   "metadata": {},
   "source": [
    "# Laboratorio 1. Librerías de Python"
   ]
  },
  {
   "cell_type": "markdown",
   "id": "8cdf546d-7dff-4263-95bc-c66940467b1c",
   "metadata": {},
   "source": [
    "## Librería Pandas"
   ]
  },
  {
   "cell_type": "markdown",
   "id": "a525f350-4fc3-4774-bd2d-636dea5f9a47",
   "metadata": {},
   "source": [
    "Es una librería muy utilizada para el análisis de datos, debido a la flexibilidad y facilidad de uso que ofrece. Además, permite que la estructura de los datos se puedan realizar para una dimensión (Series) y dos dimensiones (DataFrame). Esta librería se basa en los arrays de NumPy pero presenta nuevas estructuras de datos y diferentes funcionalidades. Una de las características que más destaca, es que permite la lectura de archivos \"CSV, Excel y bases de datos SQL\"."
   ]
  },
  {
   "cell_type": "code",
   "execution_count": 31,
   "id": "c628eb25-7d42-4826-9aa3-8ab7a6208a65",
   "metadata": {},
   "outputs": [],
   "source": [
    "import pandas as pd\n",
    "df=pd.read_csv('test_DataSet.csv')"
   ]
  },
  {
   "cell_type": "markdown",
   "id": "568c1935-50a7-418e-b0f5-3ec4993e533f",
   "metadata": {},
   "source": [
    "\n",
    "En la primera línea de código, se muestra la manera de importar la librería de Pandas. Cuando se coloca un \"as\" después del código, significa que es un alias de dicha librería. En este caso, el alias de \"pandas\" es pd y así es como se lo llama dentro del código que se vaya a ejecutar. Además, se importa el dataset con el que se va a trabajar en este laboratorio. \n",
    "\n",
    "En la siguiente línea, se declaran las variables que contendrán las columnas del dataset y las que serán llamas para ejemplificar el uso de las librerías."
   ]
  },
  {
   "cell_type": "code",
   "execution_count": 32,
   "id": "20996e2a-5436-4104-a889-f53ae0c6cbbe",
   "metadata": {},
   "outputs": [],
   "source": [
    "gen=df.iloc[:,0]\n",
    "age=df.iloc[:,1]\n",
    "ope=df.iloc[:,2]\n",
    "neu=df.iloc[:,3]\n",
    "agre=df.iloc[:,5]\n",
    "ext=df.iloc[:,6]\n",
    "per=df.iloc[:,7]"
   ]
  },
  {
   "cell_type": "markdown",
   "id": "1d862b03-e956-42cd-9af6-3f10043b9975",
   "metadata": {},
   "source": [
    "A continuación, se presentan los datos del dataset importado, que presenta ítems para predicción de la personalidad. Para mostrar un dato en el código, se debe simplemente llamar a la variable que contiene el dato y se imprime. "
   ]
  },
  {
   "cell_type": "code",
   "execution_count": 27,
   "id": "3d698c96-a99b-4fbc-a16f-62fd8b1ab964",
   "metadata": {},
   "outputs": [
    {
     "data": {
      "text/html": [
       "<div>\n",
       "<style scoped>\n",
       "    .dataframe tbody tr th:only-of-type {\n",
       "        vertical-align: middle;\n",
       "    }\n",
       "\n",
       "    .dataframe tbody tr th {\n",
       "        vertical-align: top;\n",
       "    }\n",
       "\n",
       "    .dataframe thead th {\n",
       "        text-align: right;\n",
       "    }\n",
       "</style>\n",
       "<table border=\"1\" class=\"dataframe\">\n",
       "  <thead>\n",
       "    <tr style=\"text-align: right;\">\n",
       "      <th></th>\n",
       "      <th>Gender</th>\n",
       "      <th>Age</th>\n",
       "      <th>openness</th>\n",
       "      <th>neuroticism</th>\n",
       "      <th>conscientiousness</th>\n",
       "      <th>agreeableness</th>\n",
       "      <th>extraversion</th>\n",
       "      <th>Personality (class label)</th>\n",
       "    </tr>\n",
       "  </thead>\n",
       "  <tbody>\n",
       "    <tr>\n",
       "      <th>0</th>\n",
       "      <td>Female</td>\n",
       "      <td>20</td>\n",
       "      <td>7</td>\n",
       "      <td>9</td>\n",
       "      <td>9</td>\n",
       "      <td>5</td>\n",
       "      <td>5</td>\n",
       "      <td>dependable</td>\n",
       "    </tr>\n",
       "    <tr>\n",
       "      <th>1</th>\n",
       "      <td>Male</td>\n",
       "      <td>17</td>\n",
       "      <td>5</td>\n",
       "      <td>4</td>\n",
       "      <td>5</td>\n",
       "      <td>2</td>\n",
       "      <td>4</td>\n",
       "      <td>serious</td>\n",
       "    </tr>\n",
       "    <tr>\n",
       "      <th>2</th>\n",
       "      <td>Female</td>\n",
       "      <td>25</td>\n",
       "      <td>5</td>\n",
       "      <td>5</td>\n",
       "      <td>7</td>\n",
       "      <td>2</td>\n",
       "      <td>4</td>\n",
       "      <td>serious</td>\n",
       "    </tr>\n",
       "    <tr>\n",
       "      <th>3</th>\n",
       "      <td>Female</td>\n",
       "      <td>18</td>\n",
       "      <td>6</td>\n",
       "      <td>2</td>\n",
       "      <td>7</td>\n",
       "      <td>4</td>\n",
       "      <td>7</td>\n",
       "      <td>serious</td>\n",
       "    </tr>\n",
       "    <tr>\n",
       "      <th>4</th>\n",
       "      <td>Female</td>\n",
       "      <td>19</td>\n",
       "      <td>2</td>\n",
       "      <td>4</td>\n",
       "      <td>7</td>\n",
       "      <td>1</td>\n",
       "      <td>3</td>\n",
       "      <td>responsible</td>\n",
       "    </tr>\n",
       "    <tr>\n",
       "      <th>...</th>\n",
       "      <td>...</td>\n",
       "      <td>...</td>\n",
       "      <td>...</td>\n",
       "      <td>...</td>\n",
       "      <td>...</td>\n",
       "      <td>...</td>\n",
       "      <td>...</td>\n",
       "      <td>...</td>\n",
       "    </tr>\n",
       "    <tr>\n",
       "      <th>310</th>\n",
       "      <td>Female</td>\n",
       "      <td>19</td>\n",
       "      <td>6</td>\n",
       "      <td>5</td>\n",
       "      <td>6</td>\n",
       "      <td>4</td>\n",
       "      <td>3</td>\n",
       "      <td>extraverted</td>\n",
       "    </tr>\n",
       "    <tr>\n",
       "      <th>311</th>\n",
       "      <td>Male</td>\n",
       "      <td>18</td>\n",
       "      <td>2</td>\n",
       "      <td>5</td>\n",
       "      <td>8</td>\n",
       "      <td>3</td>\n",
       "      <td>7</td>\n",
       "      <td>dependable</td>\n",
       "    </tr>\n",
       "    <tr>\n",
       "      <th>312</th>\n",
       "      <td>Male</td>\n",
       "      <td>18</td>\n",
       "      <td>7</td>\n",
       "      <td>5</td>\n",
       "      <td>6</td>\n",
       "      <td>2</td>\n",
       "      <td>7</td>\n",
       "      <td>serious</td>\n",
       "    </tr>\n",
       "    <tr>\n",
       "      <th>313</th>\n",
       "      <td>Male</td>\n",
       "      <td>23</td>\n",
       "      <td>6</td>\n",
       "      <td>7</td>\n",
       "      <td>5</td>\n",
       "      <td>4</td>\n",
       "      <td>3</td>\n",
       "      <td>extraverted</td>\n",
       "    </tr>\n",
       "    <tr>\n",
       "      <th>314</th>\n",
       "      <td>Female</td>\n",
       "      <td>18</td>\n",
       "      <td>5</td>\n",
       "      <td>7</td>\n",
       "      <td>3</td>\n",
       "      <td>5</td>\n",
       "      <td>6</td>\n",
       "      <td>extraverted</td>\n",
       "    </tr>\n",
       "  </tbody>\n",
       "</table>\n",
       "<p>315 rows × 8 columns</p>\n",
       "</div>"
      ],
      "text/plain": [
       "     Gender  Age  openness  neuroticism  conscientiousness  agreeableness  \\\n",
       "0    Female   20         7            9                  9              5   \n",
       "1      Male   17         5            4                  5              2   \n",
       "2    Female   25         5            5                  7              2   \n",
       "3    Female   18         6            2                  7              4   \n",
       "4    Female   19         2            4                  7              1   \n",
       "..      ...  ...       ...          ...                ...            ...   \n",
       "310  Female   19         6            5                  6              4   \n",
       "311    Male   18         2            5                  8              3   \n",
       "312    Male   18         7            5                  6              2   \n",
       "313    Male   23         6            7                  5              4   \n",
       "314  Female   18         5            7                  3              5   \n",
       "\n",
       "     extraversion Personality (class label)  \n",
       "0               5                dependable  \n",
       "1               4                   serious  \n",
       "2               4                   serious  \n",
       "3               7                   serious  \n",
       "4               3               responsible  \n",
       "..            ...                       ...  \n",
       "310             3               extraverted  \n",
       "311             7                dependable  \n",
       "312             7                   serious  \n",
       "313             3               extraverted  \n",
       "314             6               extraverted  \n",
       "\n",
       "[315 rows x 8 columns]"
      ]
     },
     "execution_count": 27,
     "metadata": {},
     "output_type": "execute_result"
    }
   ],
   "source": [
    "df"
   ]
  },
  {
   "cell_type": "markdown",
   "id": "3f613b86-fe37-4aee-8cb3-c3a065873eaf",
   "metadata": {},
   "source": [
    "La primera funcionalidad que se explica acerca de la librería Pandas, es la eliminación de duplicados en una columna. Para este comando, se debe escribir el nombre de la columna del dataset y anteponer el comando \"drop\" antes de la etiqueta, como se muestra a continuación.  "
   ]
  },
  {
   "cell_type": "code",
   "execution_count": 33,
   "id": "9ffbc55c-d45b-47d1-bfa9-4105978ad687",
   "metadata": {},
   "outputs": [
    {
     "data": {
      "text/html": [
       "<div>\n",
       "<style scoped>\n",
       "    .dataframe tbody tr th:only-of-type {\n",
       "        vertical-align: middle;\n",
       "    }\n",
       "\n",
       "    .dataframe tbody tr th {\n",
       "        vertical-align: top;\n",
       "    }\n",
       "\n",
       "    .dataframe thead th {\n",
       "        text-align: right;\n",
       "    }\n",
       "</style>\n",
       "<table border=\"1\" class=\"dataframe\">\n",
       "  <thead>\n",
       "    <tr style=\"text-align: right;\">\n",
       "      <th></th>\n",
       "      <th>Gender</th>\n",
       "      <th>Age</th>\n",
       "      <th>openness</th>\n",
       "      <th>neuroticism</th>\n",
       "      <th>conscientiousness</th>\n",
       "      <th>agreeableness</th>\n",
       "      <th>extraversion</th>\n",
       "      <th>Personality (class label)</th>\n",
       "    </tr>\n",
       "  </thead>\n",
       "  <tbody>\n",
       "    <tr>\n",
       "      <th>0</th>\n",
       "      <td>Female</td>\n",
       "      <td>20</td>\n",
       "      <td>7</td>\n",
       "      <td>9</td>\n",
       "      <td>9</td>\n",
       "      <td>5</td>\n",
       "      <td>5</td>\n",
       "      <td>dependable</td>\n",
       "    </tr>\n",
       "    <tr>\n",
       "      <th>1</th>\n",
       "      <td>Male</td>\n",
       "      <td>17</td>\n",
       "      <td>5</td>\n",
       "      <td>4</td>\n",
       "      <td>5</td>\n",
       "      <td>2</td>\n",
       "      <td>4</td>\n",
       "      <td>serious</td>\n",
       "    </tr>\n",
       "    <tr>\n",
       "      <th>2</th>\n",
       "      <td>Female</td>\n",
       "      <td>25</td>\n",
       "      <td>5</td>\n",
       "      <td>5</td>\n",
       "      <td>7</td>\n",
       "      <td>2</td>\n",
       "      <td>4</td>\n",
       "      <td>serious</td>\n",
       "    </tr>\n",
       "    <tr>\n",
       "      <th>3</th>\n",
       "      <td>Female</td>\n",
       "      <td>18</td>\n",
       "      <td>6</td>\n",
       "      <td>2</td>\n",
       "      <td>7</td>\n",
       "      <td>4</td>\n",
       "      <td>7</td>\n",
       "      <td>serious</td>\n",
       "    </tr>\n",
       "    <tr>\n",
       "      <th>4</th>\n",
       "      <td>Female</td>\n",
       "      <td>19</td>\n",
       "      <td>2</td>\n",
       "      <td>4</td>\n",
       "      <td>7</td>\n",
       "      <td>1</td>\n",
       "      <td>3</td>\n",
       "      <td>responsible</td>\n",
       "    </tr>\n",
       "    <tr>\n",
       "      <th>6</th>\n",
       "      <td>Female</td>\n",
       "      <td>24</td>\n",
       "      <td>1</td>\n",
       "      <td>2</td>\n",
       "      <td>7</td>\n",
       "      <td>4</td>\n",
       "      <td>6</td>\n",
       "      <td>extraverted</td>\n",
       "    </tr>\n",
       "    <tr>\n",
       "      <th>7</th>\n",
       "      <td>Male</td>\n",
       "      <td>27</td>\n",
       "      <td>4</td>\n",
       "      <td>5</td>\n",
       "      <td>7</td>\n",
       "      <td>4</td>\n",
       "      <td>4</td>\n",
       "      <td>serious</td>\n",
       "    </tr>\n",
       "    <tr>\n",
       "      <th>9</th>\n",
       "      <td>Male</td>\n",
       "      <td>21</td>\n",
       "      <td>5</td>\n",
       "      <td>4</td>\n",
       "      <td>4</td>\n",
       "      <td>6</td>\n",
       "      <td>4</td>\n",
       "      <td>serious</td>\n",
       "    </tr>\n",
       "    <tr>\n",
       "      <th>18</th>\n",
       "      <td>Male</td>\n",
       "      <td>23</td>\n",
       "      <td>4</td>\n",
       "      <td>2</td>\n",
       "      <td>1</td>\n",
       "      <td>5</td>\n",
       "      <td>6</td>\n",
       "      <td>serious</td>\n",
       "    </tr>\n",
       "    <tr>\n",
       "      <th>27</th>\n",
       "      <td>Male</td>\n",
       "      <td>22</td>\n",
       "      <td>6</td>\n",
       "      <td>8</td>\n",
       "      <td>2</td>\n",
       "      <td>6</td>\n",
       "      <td>4</td>\n",
       "      <td>dependable</td>\n",
       "    </tr>\n",
       "    <tr>\n",
       "      <th>33</th>\n",
       "      <td>Female</td>\n",
       "      <td>26</td>\n",
       "      <td>6</td>\n",
       "      <td>2</td>\n",
       "      <td>6</td>\n",
       "      <td>3</td>\n",
       "      <td>3</td>\n",
       "      <td>lively</td>\n",
       "    </tr>\n",
       "    <tr>\n",
       "      <th>55</th>\n",
       "      <td>Male</td>\n",
       "      <td>28</td>\n",
       "      <td>4</td>\n",
       "      <td>7</td>\n",
       "      <td>6</td>\n",
       "      <td>2</td>\n",
       "      <td>5</td>\n",
       "      <td>serious</td>\n",
       "    </tr>\n",
       "    <tr>\n",
       "      <th>261</th>\n",
       "      <td>Female</td>\n",
       "      <td>5</td>\n",
       "      <td>5</td>\n",
       "      <td>5</td>\n",
       "      <td>5</td>\n",
       "      <td>5</td>\n",
       "      <td>5</td>\n",
       "      <td>responsible</td>\n",
       "    </tr>\n",
       "  </tbody>\n",
       "</table>\n",
       "</div>"
      ],
      "text/plain": [
       "     Gender  Age  openness  neuroticism  conscientiousness  agreeableness  \\\n",
       "0    Female   20         7            9                  9              5   \n",
       "1      Male   17         5            4                  5              2   \n",
       "2    Female   25         5            5                  7              2   \n",
       "3    Female   18         6            2                  7              4   \n",
       "4    Female   19         2            4                  7              1   \n",
       "6    Female   24         1            2                  7              4   \n",
       "7      Male   27         4            5                  7              4   \n",
       "9      Male   21         5            4                  4              6   \n",
       "18     Male   23         4            2                  1              5   \n",
       "27     Male   22         6            8                  2              6   \n",
       "33   Female   26         6            2                  6              3   \n",
       "55     Male   28         4            7                  6              2   \n",
       "261  Female    5         5            5                  5              5   \n",
       "\n",
       "     extraversion Personality (class label)  \n",
       "0               5                dependable  \n",
       "1               4                   serious  \n",
       "2               4                   serious  \n",
       "3               7                   serious  \n",
       "4               3               responsible  \n",
       "6               6               extraverted  \n",
       "7               4                   serious  \n",
       "9               4                   serious  \n",
       "18              6                   serious  \n",
       "27              4                dependable  \n",
       "33              3                    lively  \n",
       "55              5                   serious  \n",
       "261             5               responsible  "
      ]
     },
     "execution_count": 33,
     "metadata": {},
     "output_type": "execute_result"
    }
   ],
   "source": [
    "data.drop_duplicates(['Age'])"
   ]
  },
  {
   "cell_type": "markdown",
   "id": "ae2c6772-1c1e-4db0-98fe-b663365d5f02",
   "metadata": {},
   "source": [
    "Otra de las funcionalidades básicas de esta librería, es el cálculo del valor mínimo, máximo, la desviación típica, entre otras. En este ejemplo, se hace el cálculo de la desviación de la columna \"Edad\" del dataset. Además, se manda a imprimir el valor máximo y el mínimo de esta misma columna. Los comandos usados son: \"min\", \"max\" y \"std\". También se agrega un índice que hace referencia a los cálculos hallados."
   ]
  },
  {
   "cell_type": "code",
   "execution_count": 7,
   "id": "f7dea973-825e-4e53-8f59-31b621c06104",
   "metadata": {},
   "outputs": [
    {
     "name": "stdout",
     "output_type": "stream",
     "text": [
      "Min                   5.000000\n",
      "Max                  28.000000\n",
      "Desviación típica     2.616811\n",
      "dtype: float64\n"
     ]
    }
   ],
   "source": [
    "def estadistica_edad(age):\n",
    "    edad = pd.Series(age)\n",
    "    estadisticos = pd.Series([edad.min(), edad.max(), edad.std()], index=['Min', 'Max',  'Desviación típica'])\n",
    "    return estadisticos\n",
    "\n",
    "print(estadistica_edad(age))"
   ]
  },
  {
   "cell_type": "markdown",
   "id": "1be1dbe0-b46e-4886-b63e-98dea1849e7c",
   "metadata": {},
   "source": [
    "La tercera funcionalidad que se expone acerca de Pandas, es la condicionalidad que se puede agregar y el ordenamiento de los datos. En este ejemplo, se manda a buscar dentro del dataset, solo a los usuarios de género masculino y que se su orden sea ascendente según la edad."
   ]
  },
  {
   "cell_type": "code",
   "execution_count": 29,
   "id": "b3d4e530-f5bd-4be9-9b34-2e8195465515",
   "metadata": {},
   "outputs": [
    {
     "name": "stdout",
     "output_type": "stream",
     "text": [
      "1      17\n",
      "231    17\n",
      "202    17\n",
      "193    17\n",
      "180    17\n",
      "       ..\n",
      "148    26\n",
      "241    26\n",
      "171    27\n",
      "7      27\n",
      "55     28\n",
      "Name: Age, Length: 159, dtype: int64\n"
     ]
    }
   ],
   "source": [
    "print(df[df[\"Gender\"]=='Male']['Age'].sort_values())"
   ]
  },
  {
   "cell_type": "markdown",
   "id": "84e103ce-8b89-4eb3-8ac0-bcd8a08ff961",
   "metadata": {
    "tags": []
   },
   "source": [
    "## Librería NumPy"
   ]
  },
  {
   "cell_type": "markdown",
   "id": "0a374eeb-bcc9-4843-9244-bf49d575ac11",
   "metadata": {},
   "source": [
    "Es una de las líbrerías más básicas cuando se trata de Machine Learning, puesto que proporciona estructuras de datos en forma de matriz, es compacta, concede el acceso rápido a la lectura y escritura y es muy eficiente. Su nombre hace referencia a la librería principal para la informática científica que es \"Numerical Python\"."
   ]
  },
  {
   "cell_type": "code",
   "execution_count": 34,
   "id": "165c73d6-4e31-45f1-b21a-875558f65809",
   "metadata": {},
   "outputs": [],
   "source": [
    "import numpy as np"
   ]
  },
  {
   "cell_type": "markdown",
   "id": "6615d35a-f363-405d-914b-d84e92605d92",
   "metadata": {},
   "source": [
    "La manera de importar las librerías es siempre de la misma forma. En este caso, \"np\" funciona como el alias de NumPy y será llamada así en todo el código."
   ]
  },
  {
   "cell_type": "markdown",
   "id": "90d3ba3f-746f-4c6d-ba40-7d05ec96cf2e",
   "metadata": {},
   "source": [
    "Para la primera función ejemplificada con la librería NumPy, es la suma de tres columnas específicas del dataset. Esta opción se puede considerar para cuando se quiera hacer algún análisis completo de los datos y obtener la suma total, ya sea de algunos o de todos los items del dataset. Para ello, se crea el array con las variables declaradas al inicio y luego, con el comando \"sum\", se pasa por parámetro la variable que almacena al arreglo y se imprime el resultado."
   ]
  },
  {
   "cell_type": "code",
   "execution_count": 9,
   "id": "5a3e3883-9b23-431b-ae43-5ffe4288ea86",
   "metadata": {},
   "outputs": [
    {
     "name": "stdout",
     "output_type": "stream",
     "text": [
      "[[21 11 12 12  7 15  7 13 16 15 13 12 14 12 12 19 15 14 11 14 11 19 14 13\n",
      "  12 18 15 20 16 11 12 10 17 11 16 11 11 11 13 10 11 13 10 11 13 14 13 15\n",
      "  11 15 13 14 12 15 15 13 16 14 14 12  7 16 13 12 16 11 12 12 11 13 11 11\n",
      "  14 14 11 14 15 14 17 16 16 18 16 18 16 14  8 12  7 15 13 13 15 16 14 13\n",
      "  14 17 16 14 17 13 14 17 16 17 14 16 12 13 14 17 13  8 16 19 12 14 13 20\n",
      "  16 13 12 18 14 15 14 17 11 14 12 18 11 16 17 13  8 17 14 15 14 16 10 13\n",
      "  15 15 13 16 15 15 13 11 17 15 16 11 18 11 13 11 17 14 13 13 10 12 18 19\n",
      "  14 10 11 13 11 11 12 15 15 14 10 14 13 14 15 13 14 15 13 15 15 17 16 20\n",
      "  13 17 13 17 15 17 12 16 15 16 17 16 16 16 15 13 16 18 15 17 14 18 18 18\n",
      "  18 19 19 17 15 16 16 10 13 19 15 12 16 19 13 13 16 17 17 15 10 17 18 16\n",
      "  17 13 15 16 15 13 16 13 12 18 13 16 17 17 15 10 13 18 12 17 13 15 16 12\n",
      "  12 14 15 14 14 14 18 11 15  9 14  9 16 16 11 13  8 18 16 18 14 17 18 17\n",
      "  15 21 19 17 14 14 19 19 15 16 14 18 10 15 14 14 13 14 13 11 11 13 15 10\n",
      "  14 17 17]]\n"
     ]
    }
   ],
   "source": [
    "\n",
    "a = np.array([\n",
    "    [neu],\n",
    "    [ope],[agre]])\n",
    "s = np.sum(a, axis=0)\n",
    "print(s)\n",
    "\n"
   ]
  },
  {
   "cell_type": "markdown",
   "id": "802ed95a-44e5-4280-a152-7fe92e65946f",
   "metadata": {},
   "source": [
    "Una funcionalidad que también se puede considerar al momento de trabajar con grandes cantidades de datos, es verificar si hay datos nulos dentro del dataset. De esta manera, se evita problemas posteriores, cuando se quieran procesar los datos. El comando para ejecutar esta acción, es anteponer el prefijo \"isnan\" con la variable como parámetro, concatenado con el comando \"any\". El resultado de este código, será un valor booleano."
   ]
  },
  {
   "cell_type": "code",
   "execution_count": 10,
   "id": "26254842-f34d-4e02-ae11-c86d804b31a7",
   "metadata": {},
   "outputs": [
    {
     "data": {
      "text/plain": [
       "False"
      ]
     },
     "execution_count": 10,
     "metadata": {},
     "output_type": "execute_result"
    }
   ],
   "source": [
    "a = np.array([age])\n",
    "np.isnan(a).any()"
   ]
  },
  {
   "cell_type": "markdown",
   "id": "fd4387af-a8b4-48b6-9bc4-5f393b2c7ec8",
   "metadata": {},
   "source": [
    "Esta librería es muy útil al momento de trabajar con operaciones aplicadas a los arreglos. En el siguiente ejemplo, se realiza el cálculo del promedio, la mediana y la desvianción estándar de una de las características de la personalidad. "
   ]
  },
  {
   "cell_type": "code",
   "execution_count": 11,
   "id": "6de61e29-3be4-4a4f-ad1e-65f9e9654bd0",
   "metadata": {},
   "outputs": [
    {
     "name": "stdout",
     "output_type": "stream",
     "text": [
      "4.85079365079365 5.0 1.5347687914256956\n"
     ]
    }
   ],
   "source": [
    "a = np.array([ope])\n",
    "mu, med, sd = np.mean(a), np.median(a), np.std(a)\n",
    "print(mu, med, sd)"
   ]
  },
  {
   "cell_type": "markdown",
   "id": "a5e81c8f-8891-49ff-ac3d-376dc80ba2cf",
   "metadata": {},
   "source": [
    "## Librería Matplotlib"
   ]
  },
  {
   "cell_type": "markdown",
   "id": "0eb303c6-8b9b-4ce3-9a1c-bd765dc5c251",
   "metadata": {},
   "source": [
    "Es una librería de gráficos en 2D que ofrece una variedad de formatos y entornos interactivos para realizar figuras de calidad. Los gráficos que propone son histogramas, espectros de potencia, gráficos de barras, gráficos de errores, gráficos de dispersión, entre otros. "
   ]
  },
  {
   "cell_type": "code",
   "execution_count": 35,
   "id": "7ecdf5c0-1aa2-4371-9893-b5042e51c5e4",
   "metadata": {},
   "outputs": [],
   "source": [
    "import matplotlib.pyplot as plt"
   ]
  },
  {
   "cell_type": "markdown",
   "id": "dbf0208b-fb90-4140-812e-c168e5ed78e8",
   "metadata": {},
   "source": [
    "Al igual que NumPy, se debe importar la librería como se muestra en la línea de código anterior, agregando un alias. No es necesario el sobrenombre para las librerías pero se puede usar para reducir código. "
   ]
  },
  {
   "cell_type": "markdown",
   "id": "fce77a45-df99-4738-8e6d-f401973b1c3e",
   "metadata": {},
   "source": [
    "En el siguiente gráfico, se ejemplifican los histogramas, los cuales se usan para mostrar la frecuencia de datos de un determinado problema. En este caso, la variable \"x\" contiene todos los datos que se van a agrupar, tratándose de las edades de los usuarios registrados en el dataset. La variable \"num_bins\" representa el número de barras que se van a mostrar. Posteriormente, cuando se manda a graficar, se mencionan los códigos \"n, bins y patches\", aluciendo al número de recuentos de cada contenedor y a los parches usados para la creación del histograma. En el parámetro de la gráfica, se pasan los valores de las variables declaradas y se puede cambiar el color a la gráfica. "
   ]
  },
  {
   "cell_type": "code",
   "execution_count": 46,
   "id": "3fe096e8-4ea5-40bc-8ae6-50a0580b9399",
   "metadata": {},
   "outputs": [
    {
     "data": {
      "image/png": "[encoded data removed]",
      "text/plain": [
       "<Figure size 432x288 with 1 Axes>"
      ]
     },
     "metadata": {
      "needs_background": "light"
     },
     "output_type": "display_data"
    }
   ],
   "source": [
    "x = [per]\n",
    "num_bins = 5\n",
    "n, bins, patches = plt.hist(x, num_bins, facecolor = 'pink')\n",
    "plt.show()"
   ]
  },
  {
   "cell_type": "markdown",
   "id": "11ea7c3a-4811-456c-bb57-781ac423d0a6",
   "metadata": {},
   "source": [
    "Otro modelo de gráficas disponible en esta librería, es la tipo \"scatter\", que muestra los puntos según los ejes que se le especifiquen. En este ejemplo, se utiliza dos columnas del dataset: el eje de las \"x\" representa a la extroversión y el de las \"y\" a la apertura de las personas del dataset. "
   ]
  },
  {
   "cell_type": "code",
   "execution_count": 47,
   "id": "2bc054cf-33f3-450b-83a3-238077366c5d",
   "metadata": {},
   "outputs": [
    {
     "data": {
      "image/png": "[encoded data removed]",
      "text/plain": [
       "<Figure size 432x288 with 1 Axes>"
      ]
     },
     "metadata": {
      "needs_background": "light"
     },
     "output_type": "display_data"
    }
   ],
   "source": [
    "x = [ext]\n",
    "y = [ope]\n",
    "plt.scatter(x,y)\n",
    "plt.show()"
   ]
  },
  {
   "cell_type": "markdown",
   "id": "05180d4c-3a5b-40e2-bb55-8cf8c024ae06",
   "metadata": {},
   "source": [
    "A continuación, se observa una figura diferente, que también se puede usar con Matplotlib. Se la denomina de tipo violín y para la ejecución del código, se ha tomado como variable principal, la apertura de los participantes del dataset. Lo que se observa es que la mayoría están en un puntaje de 5 a 6, en cuanto a esta característica. "
   ]
  },
  {
   "cell_type": "code",
   "execution_count": 15,
   "id": "1a40699c-a1d0-41c3-9b4c-369db6c9a74d",
   "metadata": {},
   "outputs": [
    {
     "data": {
      "image/png": "[encoded data removed]",
      "text/plain": [
       "<Figure size 432x288 with 1 Axes>"
      ]
     },
     "metadata": {
      "needs_background": "light"
     },
     "output_type": "display_data"
    }
   ],
   "source": [
    "fig, ax = plt.subplots()\n",
    "ax.violinplot([ope])\n",
    "plt.show()\n"
   ]
  },
  {
   "cell_type": "markdown",
   "id": "88045a07-2554-4fd4-a38a-3ebaa81dca5d",
   "metadata": {},
   "source": [
    "## Librería Seaborn"
   ]
  },
  {
   "cell_type": "markdown",
   "id": "b3ae375e-c0cb-4c14-9a3a-9837f0a33edb",
   "metadata": {},
   "source": [
    "Es una librería basada en Matplotlib, pero mejorando ciertos aspectos de los gráficos, ya que se especializa más en lo que es la visualización de los datos estadísticos. Además, está muy bien integrada con la librería \"Pandas\". El mayor aporte, es que permite tener una interfaz de alta calidad, creando gráficos informativos y atractivos a la vista. "
   ]
  },
  {
   "cell_type": "code",
   "execution_count": 16,
   "id": "c641dd0e-6fa9-4061-b6fd-1afa79999729",
   "metadata": {},
   "outputs": [],
   "source": [
    "import seaborn as sns"
   ]
  },
  {
   "cell_type": "markdown",
   "id": "ee87bfe0-3dec-40d2-837b-153fd6d31301",
   "metadata": {},
   "source": [
    "Para su utilización, es importante que se importe la librería y el alias que se utilizará es \"sns\". "
   ]
  },
  {
   "cell_type": "markdown",
   "id": "0c5355a4-d131-4074-b284-a631cf68d160",
   "metadata": {},
   "source": [
    "El primer gráfico que se presenta, es similar al de Matplotlib, ya que está basada en ella, pero como se observa, los gráficos se ven mucho mejor. En este caso, se hace una comparación de la puntuación que se tiene en la apertura, según hombres y mujeres."
   ]
  },
  {
   "cell_type": "code",
   "execution_count": 17,
   "id": "a17770d2-1e6d-4cc3-8bc2-1959ab3b6b80",
   "metadata": {},
   "outputs": [
    {
     "data": {
      "image/png": "[encoded data removed]",
      "text/plain": [
       "<Figure size 432x288 with 1 Axes>"
      ]
     },
     "metadata": {},
     "output_type": "display_data"
    }
   ],
   "source": [
    "sns.set_style('darkgrid')\n",
    "sns.violinplot(x = \"Gender\", y = \"openness\", data = df)\n",
    "plt.show()"
   ]
  },
  {
   "cell_type": "markdown",
   "id": "e60523c1-04b3-4c9a-ad12-76fa72dffd52",
   "metadata": {},
   "source": [
    "Un ítem que se toma en este ejercico para la gráfica, es el nivel de conciencia que tienen los participantes del dataset, según su edad. Para ello, se utiliza el comando \"boxplot\" y se especifican los valores que tomará cada uno de los ejes y de dónde se los obtendrá. "
   ]
  },
  {
   "cell_type": "code",
   "execution_count": 18,
   "id": "4e5ad489-dfb6-4ba1-be36-afa9900692fa",
   "metadata": {},
   "outputs": [
    {
     "data": {
      "image/png": "[encoded data removed]",
      "text/plain": [
       "<Figure size 432x288 with 1 Axes>"
      ]
     },
     "metadata": {},
     "output_type": "display_data"
    }
   ],
   "source": [
    "sns.set_style('darkgrid')\n",
    "sns.boxplot(x = \"Age\", y = \"conscientiousness\", data = df)\n",
    "plt.show()"
   ]
  },
  {
   "cell_type": "markdown",
   "id": "08642073-6251-40cb-8fe6-4025428be296",
   "metadata": {},
   "source": [
    "A continuación, se evalúa el nivel de simpatía que tienen los participantes, según la edad y el género. Con los datos obtenidos, se puede realizar un análisis más profundo según los datos donde se tenga más coincidencia. Para este tipo de gráfica, se debe usar el comando \"catplot\" con los parámetros que se muestran en la siguiente línea de código."
   ]
  },
  {
   "cell_type": "code",
   "execution_count": 19,
   "id": "b2c840d9-3451-4d8d-a304-738e949555ce",
   "metadata": {},
   "outputs": [
    {
     "data": {
      "image/png": "[encoded data removed]",
      "text/plain": [
       "<Figure size 429.375x360 with 1 Axes>"
      ]
     },
     "metadata": {},
     "output_type": "display_data"
    }
   ],
   "source": [
    "sns.set_style('darkgrid')\n",
    "sns.catplot(x='agreeableness', y='Age', hue='Gender', kind=\"strip\", data= df)\n",
    "plt.show()"
   ]
  },
  {
   "cell_type": "markdown",
   "id": "906e15f1-1cc9-440c-a4b7-919422ef1366",
   "metadata": {},
   "source": [
    "## Librería Plotly"
   ]
  },
  {
   "cell_type": "markdown",
   "id": "ac211440-0a6b-40b3-8c05-70803f2259b6",
   "metadata": {},
   "source": [
    "Al igual que las dos librerías anteriores, Plotly, es una herramienta que se especializa también en gráficos de alto nivel. Plotly Express es solo una parte integrada de la biblioteca de Plotly y es usada para cuando se empieza a trabajar con figuras a partir de datos, puesto que se empieza con gráficos muy básicos. Cada función de Plotly Express utiliza objetos gráficos internamente y devuelve una instancia de plotly.graph_objects.Figure"
   ]
  },
  {
   "cell_type": "code",
   "execution_count": 3,
   "id": "9688053b-2fe2-4989-b877-958265f848d1",
   "metadata": {},
   "outputs": [],
   "source": [
    "import plotly.express as px"
   ]
  },
  {
   "cell_type": "markdown",
   "id": "65ae9ff0-7644-4a4f-bf3a-bf0614238665",
   "metadata": {},
   "source": [
    "Normalmente, la abreviatura que maneja plotly como alias, es \"px\". En los tres últimos ejemplos, se realizan gráficos con uno de los módulos de plotly, que es poltly.express."
   ]
  },
  {
   "cell_type": "markdown",
   "id": "8791d9de-8eb5-4095-a892-d89bee2e1078",
   "metadata": {},
   "source": [
    "Como se puede observar en la primera gráfica, Plotly ofrece gráficos dinámicos e interactivos, permitiendo que el usuario haga zoom a la figura. Con este ejemplo, se puede analizar la concurrencia que tienen los participantes según tres características de la personalidad, es decir, se puede deducir que la mayoría de personas del dataset, tienen casi la misma puntuación en cada uno de los ítems mostrados en la siguiente figura."
   ]
  },
  {
   "cell_type": "code",
   "execution_count": 61,
   "id": "ee62a536-1c9d-41d9-8ec3-4b57837ec241",
   "metadata": {},
   "outputs": [
    {
     "data": {
      "application/vnd.plotly.v1+json": {
       "config": {
        "plotlyServerURL": "https://plot.ly"
       },
       "data": [
        {
         "a": [
          7,
          5,
          5,
          6,
          2,
          6,
          1,
          4,
          6,
          5,
          6,
          4,
          4,
          4,
          7,
          6,
          5,
          5,
          4,
          5,
          5,
          5,
          4,
          6,
          6,
          6,
          4,
          6,
          3,
          4,
          4,
          6,
          5,
          6,
          7,
          4,
          2,
          2,
          3,
          5,
          5,
          2,
          3,
          8,
          4,
          5,
          5,
          5,
          2,
          5,
          6,
          5,
          2,
          4,
          6,
          4,
          3,
          4,
          5,
          6,
          3,
          6,
          7,
          5,
          3,
          4,
          1,
          5,
          3,
          3,
          5,
          6,
          3,
          7,
          3,
          4,
          4,
          5,
          5,
          5,
          6,
          7,
          7,
          5,
          5,
          6,
          2,
          4,
          1,
          6,
          4,
          6,
          5,
          5,
          6,
          3,
          5,
          5,
          5,
          4,
          6,
          2,
          6,
          7,
          5,
          4,
          6,
          5,
          7,
          3,
          6,
          4,
          6,
          5,
          5,
          6,
          4,
          4,
          5,
          6,
          6,
          6,
          4,
          7,
          5,
          7,
          6,
          5,
          4,
          5,
          5,
          6,
          5,
          6,
          6,
          4,
          3,
          5,
          7,
          6,
          5,
          5,
          6,
          5,
          5,
          6,
          3,
          6,
          6,
          4,
          7,
          6,
          5,
          5,
          6,
          3,
          5,
          3,
          5,
          3,
          5,
          5,
          4,
          3,
          2,
          4,
          6,
          7,
          4,
          3,
          1,
          1,
          4,
          5,
          6,
          6,
          7,
          7,
          3,
          4,
          7,
          5,
          6,
          4,
          4,
          7,
          4,
          6,
          6,
          5,
          6,
          7,
          3,
          7,
          3,
          5,
          5,
          6,
          3,
          5,
          6,
          4,
          5,
          5,
          5,
          7,
          6,
          3,
          6,
          8,
          2,
          6,
          6,
          5,
          7,
          6,
          6,
          7,
          7,
          6,
          4,
          5,
          6,
          2,
          5,
          7,
          1,
          3,
          5,
          6,
          2,
          3,
          3,
          6,
          6,
          3,
          4,
          6,
          6,
          4,
          7,
          2,
          3,
          5,
          2,
          5,
          6,
          1,
          3,
          6,
          2,
          4,
          7,
          6,
          6,
          1,
          5,
          6,
          5,
          7,
          6,
          5,
          7,
          6,
          4,
          5,
          5,
          4,
          7,
          6,
          5,
          1,
          5,
          3,
          6,
          6,
          5,
          4,
          1,
          4,
          4,
          7,
          6,
          7,
          7,
          6,
          6,
          6,
          6,
          7,
          5,
          5,
          5,
          4,
          5,
          7,
          3,
          5,
          5,
          6,
          6,
          5,
          4,
          4,
          6,
          4,
          6,
          1,
          3,
          4,
          6,
          2,
          7,
          6,
          5
         ],
         "b": [
          5,
          4,
          4,
          7,
          3,
          5,
          6,
          4,
          6,
          4,
          5,
          3,
          2,
          5,
          4,
          6,
          5,
          7,
          6,
          4,
          5,
          6,
          5,
          3,
          6,
          4,
          4,
          4,
          3,
          4,
          3,
          2,
          6,
          3,
          5,
          5,
          6,
          5,
          7,
          5,
          1,
          3,
          6,
          4,
          6,
          8,
          3,
          6,
          7,
          6,
          7,
          3,
          6,
          2,
          6,
          5,
          5,
          4,
          6,
          6,
          3,
          4,
          5,
          7,
          7,
          4,
          5,
          4,
          7,
          5,
          5,
          7,
          6,
          5,
          4,
          4,
          6,
          8,
          4,
          5,
          5,
          6,
          5,
          3,
          6,
          4,
          6,
          6,
          6,
          4,
          6,
          3,
          6,
          6,
          7,
          3,
          5,
          3,
          5,
          6,
          3,
          8,
          2,
          1,
          4,
          8,
          6,
          5,
          6,
          5,
          6,
          7,
          4,
          8,
          5,
          5,
          5,
          4,
          6,
          6,
          1,
          3,
          5,
          7,
          3,
          5,
          5,
          6,
          4,
          6,
          6,
          5,
          4,
          4,
          4,
          5,
          5,
          7,
          5,
          7,
          5,
          6,
          7,
          6,
          7,
          4,
          6,
          5,
          5,
          6,
          6,
          4,
          6,
          4,
          7,
          3,
          5,
          6,
          7,
          2,
          1,
          5,
          6,
          6,
          5,
          4,
          5,
          7,
          5,
          5,
          5,
          6,
          5,
          5,
          6,
          5,
          4,
          5,
          7,
          4,
          4,
          4,
          5,
          6,
          3,
          6,
          3,
          5,
          3,
          5,
          5,
          6,
          3,
          1,
          5,
          4,
          5,
          5,
          2,
          4,
          5,
          5,
          1,
          5,
          4,
          5,
          6,
          5,
          6,
          6,
          4,
          5,
          5,
          7,
          2,
          6,
          3,
          6,
          5,
          5,
          4,
          5,
          4,
          7,
          5,
          3,
          7,
          5,
          4,
          5,
          3,
          7,
          7,
          7,
          5,
          6,
          3,
          6,
          5,
          5,
          5,
          6,
          5,
          8,
          6,
          3,
          7,
          6,
          4,
          5,
          5,
          4,
          5,
          6,
          5,
          5,
          2,
          4,
          3,
          7,
          4,
          5,
          5,
          4,
          5,
          3,
          6,
          5,
          6,
          6,
          4,
          7,
          3,
          6,
          1,
          4,
          4,
          2,
          6,
          6,
          3,
          5,
          5,
          5,
          3,
          5,
          5,
          4,
          3,
          6,
          6,
          7,
          5,
          5,
          6,
          5,
          5,
          4,
          1,
          5,
          8,
          4,
          4,
          6,
          8,
          5,
          6,
          4,
          5,
          6,
          3,
          7,
          7,
          3,
          6
         ],
         "c": [
          9,
          5,
          7,
          7,
          7,
          7,
          7,
          7,
          5,
          4,
          7,
          4,
          5,
          4,
          4,
          5,
          6,
          5,
          1,
          4,
          7,
          3,
          6,
          5,
          5,
          7,
          3,
          2,
          6,
          3,
          6,
          5,
          1,
          6,
          7,
          6,
          5,
          4,
          3,
          6,
          6,
          4,
          6,
          5,
          6,
          3,
          6,
          7,
          4,
          1,
          6,
          5,
          7,
          5,
          5,
          6,
          3,
          5,
          7,
          5,
          7,
          6,
          5,
          4,
          4,
          5,
          6,
          5,
          6,
          5,
          1,
          4,
          5,
          5,
          3,
          5,
          5,
          2,
          7,
          7,
          7,
          4,
          4,
          5,
          7,
          7,
          6,
          4,
          6,
          5,
          4,
          2,
          5,
          6,
          5,
          6,
          4,
          6,
          8,
          6,
          5,
          1,
          1,
          3,
          4,
          4,
          1,
          2,
          7,
          3,
          1,
          7,
          5,
          1,
          6,
          4,
          5,
          3,
          5,
          5,
          5,
          4,
          2,
          5,
          7,
          1,
          3,
          3,
          6,
          5,
          5,
          7,
          2,
          6,
          7,
          5,
          3,
          2,
          5,
          5,
          6,
          5,
          7,
          3,
          2,
          3,
          5,
          6,
          5,
          1,
          5,
          6,
          6,
          5,
          4,
          3,
          2,
          7,
          4,
          3,
          5,
          3,
          2,
          7,
          6,
          4,
          5,
          2,
          7,
          5,
          5,
          2,
          3,
          3,
          5,
          3,
          4,
          4,
          5,
          1,
          4,
          6,
          4,
          1,
          4,
          3,
          6,
          2,
          6,
          2,
          6,
          5,
          7,
          7,
          6,
          5,
          7,
          6,
          4,
          6,
          7,
          3,
          5,
          6,
          7,
          5,
          6,
          3,
          6,
          6,
          6,
          1,
          3,
          2,
          8,
          3,
          3,
          7,
          6,
          7,
          3,
          5,
          5,
          5,
          6,
          7,
          7,
          3,
          7,
          7,
          5,
          6,
          6,
          3,
          4,
          7,
          5,
          1,
          6,
          7,
          7,
          3,
          6,
          5,
          6,
          2,
          5,
          4,
          2,
          3,
          7,
          3,
          4,
          2,
          8,
          2,
          4,
          6,
          6,
          7,
          3,
          5,
          7,
          2,
          5,
          3,
          4,
          1,
          4,
          3,
          5,
          6,
          4,
          7,
          8,
          7,
          3,
          5,
          7,
          6,
          6,
          4,
          5,
          5,
          7,
          7,
          7,
          5,
          7,
          2,
          5,
          4,
          4,
          6,
          4,
          3,
          1,
          6,
          7,
          5,
          7,
          6,
          5,
          7,
          2,
          6,
          6,
          5,
          6,
          7,
          6,
          8,
          6,
          5,
          3
         ],
         "hovertemplate": "openness=%{a}<br>extraversion=%{b}<br>conscientiousness=%{c}<extra></extra>",
         "legendgroup": "",
         "marker": {
          "color": "#636efa",
          "symbol": "circle"
         },
         "mode": "markers",
         "name": "",
         "showlegend": false,
         "subplot": "ternary",
         "type": "scatterternary"
        }
       ],
       "layout": {
        "autosize": true,
        "legend": {
         "tracegroupgap": 0
        },
        "margin": {
         "t": 60
        },
        "template": {
         "data": {
          "bar": [
           {
            "error_x": {
             "color": "#2a3f5f"
            },
            "error_y": {
             "color": "#2a3f5f"
            },
            "marker": {
             "line": {
              "color": "#E5ECF6",
              "width": 0.5
             },
             "pattern": {
              "fillmode": "overlay",
              "size": 10,
              "solidity": 0.2
             }
            },
            "type": "bar"
           }
          ],
          "barpolar": [
           {
            "marker": {
             "line": {
              "color": "#E5ECF6",
              "width": 0.5
             },
             "pattern": {
              "fillmode": "overlay",
              "size": 10,
              "solidity": 0.2
             }
            },
            "type": "barpolar"
           }
          ],
          "carpet": [
           {
            "aaxis": {
             "endlinecolor": "#2a3f5f",
             "gridcolor": "white",
             "linecolor": "white",
             "minorgridcolor": "white",
             "startlinecolor": "#2a3f5f"
            },
            "baxis": {
             "endlinecolor": "#2a3f5f",
             "gridcolor": "white",
             "linecolor": "white",
             "minorgridcolor": "white",
             "startlinecolor": "#2a3f5f"
            },
            "type": "carpet"
           }
          ],
          "choropleth": [
           {
            "colorbar": {
             "outlinewidth": 0,
             "ticks": ""
            },
            "type": "choropleth"
           }
          ],
          "contour": [
           {
            "colorbar": {
             "outlinewidth": 0,
             "ticks": ""
            },
            "colorscale": [
             [
              0,
              "#0d0887"
             ],
             [
              0.1111111111111111,
              "#46039f"
             ],
             [
              0.2222222222222222,
              "#7201a8"
             ],
             [
              0.3333333333333333,
              "#9c179e"
             ],
             [
              0.4444444444444444,
              "#bd3786"
             ],
             [
              0.5555555555555556,
              "#d8576b"
             ],
             [
              0.6666666666666666,
              "#ed7953"
             ],
             [
              0.7777777777777778,
              "#fb9f3a"
             ],
             [
              0.8888888888888888,
              "#fdca26"
             ],
             [
              1,
              "#f0f921"
             ]
            ],
            "type": "contour"
           }
          ],
          "contourcarpet": [
           {
            "colorbar": {
             "outlinewidth": 0,
             "ticks": ""
            },
            "type": "contourcarpet"
           }
          ],
          "heatmap": [
           {
            "colorbar": {
             "outlinewidth": 0,
             "ticks": ""
            },
            "colorscale": [
             [
              0,
              "#0d0887"
             ],
             [
              0.1111111111111111,
              "#46039f"
             ],
             [
              0.2222222222222222,
              "#7201a8"
             ],
             [
              0.3333333333333333,
              "#9c179e"
             ],
             [
              0.4444444444444444,
              "#bd3786"
             ],
             [
              0.5555555555555556,
              "#d8576b"
             ],
             [
              0.6666666666666666,
              "#ed7953"
             ],
             [
              0.7777777777777778,
              "#fb9f3a"
             ],
             [
              0.8888888888888888,
              "#fdca26"
             ],
             [
              1,
              "#f0f921"
             ]
            ],
            "type": "heatmap"
           }
          ],
          "heatmapgl": [
           {
            "colorbar": {
             "outlinewidth": 0,
             "ticks": ""
            },
            "colorscale": [
             [
              0,
              "#0d0887"
             ],
             [
              0.1111111111111111,
              "#46039f"
             ],
             [
              0.2222222222222222,
              "#7201a8"
             ],
             [
              0.3333333333333333,
              "#9c179e"
             ],
             [
              0.4444444444444444,
              "#bd3786"
             ],
             [
              0.5555555555555556,
              "#d8576b"
             ],
             [
              0.6666666666666666,
              "#ed7953"
             ],
             [
              0.7777777777777778,
              "#fb9f3a"
             ],
             [
              0.8888888888888888,
              "#fdca26"
             ],
             [
              1,
              "#f0f921"
             ]
            ],
            "type": "heatmapgl"
           }
          ],
          "histogram": [
           {
            "marker": {
             "pattern": {
              "fillmode": "overlay",
              "size": 10,
              "solidity": 0.2
             }
            },
            "type": "histogram"
           }
          ],
          "histogram2d": [
           {
            "colorbar": {
             "outlinewidth": 0,
             "ticks": ""
            },
            "colorscale": [
             [
              0,
              "#0d0887"
             ],
             [
              0.1111111111111111,
              "#46039f"
             ],
             [
              0.2222222222222222,
              "#7201a8"
             ],
             [
              0.3333333333333333,
              "#9c179e"
             ],
             [
              0.4444444444444444,
              "#bd3786"
             ],
             [
              0.5555555555555556,
              "#d8576b"
             ],
             [
              0.6666666666666666,
              "#ed7953"
             ],
             [
              0.7777777777777778,
              "#fb9f3a"
             ],
             [
              0.8888888888888888,
              "#fdca26"
             ],
             [
              1,
              "#f0f921"
             ]
            ],
            "type": "histogram2d"
           }
          ],
          "histogram2dcontour": [
           {
            "colorbar": {
             "outlinewidth": 0,
             "ticks": ""
            },
            "colorscale": [
             [
              0,
              "#0d0887"
             ],
             [
              0.1111111111111111,
              "#46039f"
             ],
             [
              0.2222222222222222,
              "#7201a8"
             ],
             [
              0.3333333333333333,
              "#9c179e"
             ],
             [
              0.4444444444444444,
              "#bd3786"
             ],
             [
              0.5555555555555556,
              "#d8576b"
             ],
             [
              0.6666666666666666,
              "#ed7953"
             ],
             [
              0.7777777777777778,
              "#fb9f3a"
             ],
             [
              0.8888888888888888,
              "#fdca26"
             ],
             [
              1,
              "#f0f921"
             ]
            ],
            "type": "histogram2dcontour"
           }
          ],
          "mesh3d": [
           {
            "colorbar": {
             "outlinewidth": 0,
             "ticks": ""
            },
            "type": "mesh3d"
           }
          ],
          "parcoords": [
           {
            "line": {
             "colorbar": {
              "outlinewidth": 0,
              "ticks": ""
             }
            },
            "type": "parcoords"
           }
          ],
          "pie": [
           {
            "automargin": true,
            "type": "pie"
           }
          ],
          "scatter": [
           {
            "marker": {
             "colorbar": {
              "outlinewidth": 0,
              "ticks": ""
             }
            },
            "type": "scatter"
           }
          ],
          "scatter3d": [
           {
            "line": {
             "colorbar": {
              "outlinewidth": 0,
              "ticks": ""
             }
            },
            "marker": {
             "colorbar": {
              "outlinewidth": 0,
              "ticks": ""
             }
            },
            "type": "scatter3d"
           }
          ],
          "scattercarpet": [
           {
            "marker": {
             "colorbar": {
              "outlinewidth": 0,
              "ticks": ""
             }
            },
            "type": "scattercarpet"
           }
          ],
          "scattergeo": [
           {
            "marker": {
             "colorbar": {
              "outlinewidth": 0,
              "ticks": ""
             }
            },
            "type": "scattergeo"
           }
          ],
          "scattergl": [
           {
            "marker": {
             "colorbar": {
              "outlinewidth": 0,
              "ticks": ""
             }
            },
            "type": "scattergl"
           }
          ],
          "scattermapbox": [
           {
            "marker": {
             "colorbar": {
              "outlinewidth": 0,
              "ticks": ""
             }
            },
            "type": "scattermapbox"
           }
          ],
          "scatterpolar": [
           {
            "marker": {
             "colorbar": {
              "outlinewidth": 0,
              "ticks": ""
             }
            },
            "type": "scatterpolar"
           }
          ],
          "scatterpolargl": [
           {
            "marker": {
             "colorbar": {
              "outlinewidth": 0,
              "ticks": ""
             }
            },
            "type": "scatterpolargl"
           }
          ],
          "scatterternary": [
           {
            "marker": {
             "colorbar": {
              "outlinewidth": 0,
              "ticks": ""
             }
            },
            "type": "scatterternary"
           }
          ],
          "surface": [
           {
            "colorbar": {
             "outlinewidth": 0,
             "ticks": ""
            },
            "colorscale": [
             [
              0,
              "#0d0887"
             ],
             [
              0.1111111111111111,
              "#46039f"
             ],
             [
              0.2222222222222222,
              "#7201a8"
             ],
             [
              0.3333333333333333,
              "#9c179e"
             ],
             [
              0.4444444444444444,
              "#bd3786"
             ],
             [
              0.5555555555555556,
              "#d8576b"
             ],
             [
              0.6666666666666666,
              "#ed7953"
             ],
             [
              0.7777777777777778,
              "#fb9f3a"
             ],
             [
              0.8888888888888888,
              "#fdca26"
             ],
             [
              1,
              "#f0f921"
             ]
            ],
            "type": "surface"
           }
          ],
          "table": [
           {
            "cells": {
             "fill": {
              "color": "#EBF0F8"
             },
             "line": {
              "color": "white"
             }
            },
            "header": {
             "fill": {
              "color": "#C8D4E3"
             },
             "line": {
              "color": "white"
             }
            },
            "type": "table"
           }
          ]
         },
         "layout": {
          "annotationdefaults": {
           "arrowcolor": "#2a3f5f",
           "arrowhead": 0,
           "arrowwidth": 1
          },
          "autotypenumbers": "strict",
          "coloraxis": {
           "colorbar": {
            "outlinewidth": 0,
            "ticks": ""
           }
          },
          "colorscale": {
           "diverging": [
            [
             0,
             "#8e0152"
            ],
            [
             0.1,
             "#c51b7d"
            ],
            [
             0.2,
             "#de77ae"
            ],
            [
             0.3,
             "#f1b6da"
            ],
            [
             0.4,
             "#fde0ef"
            ],
            [
             0.5,
             "#f7f7f7"
            ],
            [
             0.6,
             "#e6f5d0"
            ],
            [
             0.7,
             "#b8e186"
            ],
            [
             0.8,
             "#7fbc41"
            ],
            [
             0.9,
             "#4d9221"
            ],
            [
             1,
             "#276419"
            ]
           ],
           "sequential": [
            [
             0,
             "#0d0887"
            ],
            [
             0.1111111111111111,
             "#46039f"
            ],
            [
             0.2222222222222222,
             "#7201a8"
            ],
            [
             0.3333333333333333,
             "#9c179e"
            ],
            [
             0.4444444444444444,
             "#bd3786"
            ],
            [
             0.5555555555555556,
             "#d8576b"
            ],
            [
             0.6666666666666666,
             "#ed7953"
            ],
            [
             0.7777777777777778,
             "#fb9f3a"
            ],
            [
             0.8888888888888888,
             "#fdca26"
            ],
            [
             1,
             "#f0f921"
            ]
           ],
           "sequentialminus": [
            [
             0,
             "#0d0887"
            ],
            [
             0.1111111111111111,
             "#46039f"
            ],
            [
             0.2222222222222222,
             "#7201a8"
            ],
            [
             0.3333333333333333,
             "#9c179e"
            ],
            [
             0.4444444444444444,
             "#bd3786"
            ],
            [
             0.5555555555555556,
             "#d8576b"
            ],
            [
             0.6666666666666666,
             "#ed7953"
            ],
            [
             0.7777777777777778,
             "#fb9f3a"
            ],
            [
             0.8888888888888888,
             "#fdca26"
            ],
            [
             1,
             "#f0f921"
            ]
           ]
          },
          "colorway": [
           "#636efa",
           "#EF553B",
           "#00cc96",
           "#ab63fa",
           "#FFA15A",
           "#19d3f3",
           "#FF6692",
           "#B6E880",
           "#FF97FF",
           "#FECB52"
          ],
          "font": {
           "color": "#2a3f5f"
          },
          "geo": {
           "bgcolor": "white",
           "lakecolor": "white",
           "landcolor": "#E5ECF6",
           "showlakes": true,
           "showland": true,
           "subunitcolor": "white"
          },
          "hoverlabel": {
           "align": "left"
          },
          "hovermode": "closest",
          "mapbox": {
           "style": "light"
          },
          "paper_bgcolor": "white",
          "plot_bgcolor": "#E5ECF6",
          "polar": {
           "angularaxis": {
            "gridcolor": "white",
            "linecolor": "white",
            "ticks": ""
           },
           "bgcolor": "#E5ECF6",
           "radialaxis": {
            "gridcolor": "white",
            "linecolor": "white",
            "ticks": ""
           }
          },
          "scene": {
           "xaxis": {
            "backgroundcolor": "#E5ECF6",
            "gridcolor": "white",
            "gridwidth": 2,
            "linecolor": "white",
            "showbackground": true,
            "ticks": "",
            "zerolinecolor": "white"
           },
           "yaxis": {
            "backgroundcolor": "#E5ECF6",
            "gridcolor": "white",
            "gridwidth": 2,
            "linecolor": "white",
            "showbackground": true,
            "ticks": "",
            "zerolinecolor": "white"
           },
           "zaxis": {
            "backgroundcolor": "#E5ECF6",
            "gridcolor": "white",
            "gridwidth": 2,
            "linecolor": "white",
            "showbackground": true,
            "ticks": "",
            "zerolinecolor": "white"
           }
          },
          "shapedefaults": {
           "line": {
            "color": "#2a3f5f"
           }
          },
          "ternary": {
           "aaxis": {
            "gridcolor": "white",
            "linecolor": "white",
            "ticks": ""
           },
           "baxis": {
            "gridcolor": "white",
            "linecolor": "white",
            "ticks": ""
           },
           "bgcolor": "#E5ECF6",
           "caxis": {
            "gridcolor": "white",
            "linecolor": "white",
            "ticks": ""
           }
          },
          "title": {
           "x": 0.05
          },
          "xaxis": {
           "automargin": true,
           "gridcolor": "white",
           "linecolor": "white",
           "ticks": "",
           "title": {
            "standoff": 15
           },
           "zerolinecolor": "white",
           "zerolinewidth": 2
          },
          "yaxis": {
           "automargin": true,
           "gridcolor": "white",
           "linecolor": "white",
           "ticks": "",
           "title": {
            "standoff": 15
           },
           "zerolinecolor": "white",
           "zerolinewidth": 2
          }
         }
        },
        "ternary": {
         "aaxis": {
          "title": {
           "text": "openness"
          }
         },
         "baxis": {
          "title": {
           "text": "extraversion"
          }
         },
         "caxis": {
          "title": {
           "text": "conscientiousness"
          }
         },
         "domain": {
          "x": [
           0,
           1
          ],
          "y": [
           0,
           1
          ]
         }
        }
       }
      },
      "image/png": "[encoded data removed]",
      "text/html": [
       "<div>                            <div id=\"aa3d9bb0-2dcf-43c2-94c7-3c206df4d34a\" class=\"plotly-graph-div\" style=\"height:525px; width:100%;\"></div>            <script type=\"text/javascript\">                require([\"plotly\"], function(Plotly) {                    window.PLOTLYENV=window.PLOTLYENV || {};                                    if (document.getElementById(\"aa3d9bb0-2dcf-43c2-94c7-3c206df4d34a\")) {                    Plotly.newPlot(                        \"aa3d9bb0-2dcf-43c2-94c7-3c206df4d34a\",                        [{\"a\":[7,5,5,6,2,6,1,4,6,5,6,4,4,4,7,6,5,5,4,5,5,5,4,6,6,6,4,6,3,4,4,6,5,6,7,4,2,2,3,5,5,2,3,8,4,5,5,5,2,5,6,5,2,4,6,4,3,4,5,6,3,6,7,5,3,4,1,5,3,3,5,6,3,7,3,4,4,5,5,5,6,7,7,5,5,6,2,4,1,6,4,6,5,5,6,3,5,5,5,4,6,2,6,7,5,4,6,5,7,3,6,4,6,5,5,6,4,4,5,6,6,6,4,7,5,7,6,5,4,5,5,6,5,6,6,4,3,5,7,6,5,5,6,5,5,6,3,6,6,4,7,6,5,5,6,3,5,3,5,3,5,5,4,3,2,4,6,7,4,3,1,1,4,5,6,6,7,7,3,4,7,5,6,4,4,7,4,6,6,5,6,7,3,7,3,5,5,6,3,5,6,4,5,5,5,7,6,3,6,8,2,6,6,5,7,6,6,7,7,6,4,5,6,2,5,7,1,3,5,6,2,3,3,6,6,3,4,6,6,4,7,2,3,5,2,5,6,1,3,6,2,4,7,6,6,1,5,6,5,7,6,5,7,6,4,5,5,4,7,6,5,1,5,3,6,6,5,4,1,4,4,7,6,7,7,6,6,6,6,7,5,5,5,4,5,7,3,5,5,6,6,5,4,4,6,4,6,1,3,4,6,2,7,6,5],\"b\":[5,4,4,7,3,5,6,4,6,4,5,3,2,5,4,6,5,7,6,4,5,6,5,3,6,4,4,4,3,4,3,2,6,3,5,5,6,5,7,5,1,3,6,4,6,8,3,6,7,6,7,3,6,2,6,5,5,4,6,6,3,4,5,7,7,4,5,4,7,5,5,7,6,5,4,4,6,8,4,5,5,6,5,3,6,4,6,6,6,4,6,3,6,6,7,3,5,3,5,6,3,8,2,1,4,8,6,5,6,5,6,7,4,8,5,5,5,4,6,6,1,3,5,7,3,5,5,6,4,6,6,5,4,4,4,5,5,7,5,7,5,6,7,6,7,4,6,5,5,6,6,4,6,4,7,3,5,6,7,2,1,5,6,6,5,4,5,7,5,5,5,6,5,5,6,5,4,5,7,4,4,4,5,6,3,6,3,5,3,5,5,6,3,1,5,4,5,5,2,4,5,5,1,5,4,5,6,5,6,6,4,5,5,7,2,6,3,6,5,5,4,5,4,7,5,3,7,5,4,5,3,7,7,7,5,6,3,6,5,5,5,6,5,8,6,3,7,6,4,5,5,4,5,6,5,5,2,4,3,7,4,5,5,4,5,3,6,5,6,6,4,7,3,6,1,4,4,2,6,6,3,5,5,5,3,5,5,4,3,6,6,7,5,5,6,5,5,4,1,5,8,4,4,6,8,5,6,4,5,6,3,7,7,3,6],\"c\":[9,5,7,7,7,7,7,7,5,4,7,4,5,4,4,5,6,5,1,4,7,3,6,5,5,7,3,2,6,3,6,5,1,6,7,6,5,4,3,6,6,4,6,5,6,3,6,7,4,1,6,5,7,5,5,6,3,5,7,5,7,6,5,4,4,5,6,5,6,5,1,4,5,5,3,5,5,2,7,7,7,4,4,5,7,7,6,4,6,5,4,2,5,6,5,6,4,6,8,6,5,1,1,3,4,4,1,2,7,3,1,7,5,1,6,4,5,3,5,5,5,4,2,5,7,1,3,3,6,5,5,7,2,6,7,5,3,2,5,5,6,5,7,3,2,3,5,6,5,1,5,6,6,5,4,3,2,7,4,3,5,3,2,7,6,4,5,2,7,5,5,2,3,3,5,3,4,4,5,1,4,6,4,1,4,3,6,2,6,2,6,5,7,7,6,5,7,6,4,6,7,3,5,6,7,5,6,3,6,6,6,1,3,2,8,3,3,7,6,7,3,5,5,5,6,7,7,3,7,7,5,6,6,3,4,7,5,1,6,7,7,3,6,5,6,2,5,4,2,3,7,3,4,2,8,2,4,6,6,7,3,5,7,2,5,3,4,1,4,3,5,6,4,7,8,7,3,5,7,6,6,4,5,5,7,7,7,5,7,2,5,4,4,6,4,3,1,6,7,5,7,6,5,7,2,6,6,5,6,7,6,8,6,5,3],\"hovertemplate\":\"openness=%{a}<br>extraversion=%{b}<br>conscientiousness=%{c}<extra></extra>\",\"legendgroup\":\"\",\"marker\":{\"color\":\"#636efa\",\"symbol\":\"circle\"},\"mode\":\"markers\",\"name\":\"\",\"showlegend\":false,\"subplot\":\"ternary\",\"type\":\"scatterternary\"}],                        {\"template\":{\"data\":{\"bar\":[{\"error_x\":{\"color\":\"#2a3f5f\"},\"error_y\":{\"color\":\"#2a3f5f\"},\"marker\":{\"line\":{\"color\":\"#E5ECF6\",\"width\":0.5},\"pattern\":{\"fillmode\":\"overlay\",\"size\":10,\"solidity\":0.2}},\"type\":\"bar\"}],\"barpolar\":[{\"marker\":{\"line\":{\"color\":\"#E5ECF6\",\"width\":0.5},\"pattern\":{\"fillmode\":\"overlay\",\"size\":10,\"solidity\":0.2}},\"type\":\"barpolar\"}],\"carpet\":[{\"aaxis\":{\"endlinecolor\":\"#2a3f5f\",\"gridcolor\":\"white\",\"linecolor\":\"white\",\"minorgridcolor\":\"white\",\"startlinecolor\":\"#2a3f5f\"},\"baxis\":{\"endlinecolor\":\"#2a3f5f\",\"gridcolor\":\"white\",\"linecolor\":\"white\",\"minorgridcolor\":\"white\",\"startlinecolor\":\"#2a3f5f\"},\"type\":\"carpet\"}],\"choropleth\":[{\"colorbar\":{\"outlinewidth\":0,\"ticks\":\"\"},\"type\":\"choropleth\"}],\"contour\":[{\"colorbar\":{\"outlinewidth\":0,\"ticks\":\"\"},\"colorscale\":[[0.0,\"#0d0887\"],[0.1111111111111111,\"#46039f\"],[0.2222222222222222,\"#7201a8\"],[0.3333333333333333,\"#9c179e\"],[0.4444444444444444,\"#bd3786\"],[0.5555555555555556,\"#d8576b\"],[0.6666666666666666,\"#ed7953\"],[0.7777777777777778,\"#fb9f3a\"],[0.8888888888888888,\"#fdca26\"],[1.0,\"#f0f921\"]],\"type\":\"contour\"}],\"contourcarpet\":[{\"colorbar\":{\"outlinewidth\":0,\"ticks\":\"\"},\"type\":\"contourcarpet\"}],\"heatmap\":[{\"colorbar\":{\"outlinewidth\":0,\"ticks\":\"\"},\"colorscale\":[[0.0,\"#0d0887\"],[0.1111111111111111,\"#46039f\"],[0.2222222222222222,\"#7201a8\"],[0.3333333333333333,\"#9c179e\"],[0.4444444444444444,\"#bd3786\"],[0.5555555555555556,\"#d8576b\"],[0.6666666666666666,\"#ed7953\"],[0.7777777777777778,\"#fb9f3a\"],[0.8888888888888888,\"#fdca26\"],[1.0,\"#f0f921\"]],\"type\":\"heatmap\"}],\"heatmapgl\":[{\"colorbar\":{\"outlinewidth\":0,\"ticks\":\"\"},\"colorscale\":[[0.0,\"#0d0887\"],[0.1111111111111111,\"#46039f\"],[0.2222222222222222,\"#7201a8\"],[0.3333333333333333,\"#9c179e\"],[0.4444444444444444,\"#bd3786\"],[0.5555555555555556,\"#d8576b\"],[0.6666666666666666,\"#ed7953\"],[0.7777777777777778,\"#fb9f3a\"],[0.8888888888888888,\"#fdca26\"],[1.0,\"#f0f921\"]],\"type\":\"heatmapgl\"}],\"histogram\":[{\"marker\":{\"pattern\":{\"fillmode\":\"overlay\",\"size\":10,\"solidity\":0.2}},\"type\":\"histogram\"}],\"histogram2d\":[{\"colorbar\":{\"outlinewidth\":0,\"ticks\":\"\"},\"colorscale\":[[0.0,\"#0d0887\"],[0.1111111111111111,\"#46039f\"],[0.2222222222222222,\"#7201a8\"],[0.3333333333333333,\"#9c179e\"],[0.4444444444444444,\"#bd3786\"],[0.5555555555555556,\"#d8576b\"],[0.6666666666666666,\"#ed7953\"],[0.7777777777777778,\"#fb9f3a\"],[0.8888888888888888,\"#fdca26\"],[1.0,\"#f0f921\"]],\"type\":\"histogram2d\"}],\"histogram2dcontour\":[{\"colorbar\":{\"outlinewidth\":0,\"ticks\":\"\"},\"colorscale\":[[0.0,\"#0d0887\"],[0.1111111111111111,\"#46039f\"],[0.2222222222222222,\"#7201a8\"],[0.3333333333333333,\"#9c179e\"],[0.4444444444444444,\"#bd3786\"],[0.5555555555555556,\"#d8576b\"],[0.6666666666666666,\"#ed7953\"],[0.7777777777777778,\"#fb9f3a\"],[0.8888888888888888,\"#fdca26\"],[1.0,\"#f0f921\"]],\"type\":\"histogram2dcontour\"}],\"mesh3d\":[{\"colorbar\":{\"outlinewidth\":0,\"ticks\":\"\"},\"type\":\"mesh3d\"}],\"parcoords\":[{\"line\":{\"colorbar\":{\"outlinewidth\":0,\"ticks\":\"\"}},\"type\":\"parcoords\"}],\"pie\":[{\"automargin\":true,\"type\":\"pie\"}],\"scatter\":[{\"marker\":{\"colorbar\":{\"outlinewidth\":0,\"ticks\":\"\"}},\"type\":\"scatter\"}],\"scatter3d\":[{\"line\":{\"colorbar\":{\"outlinewidth\":0,\"ticks\":\"\"}},\"marker\":{\"colorbar\":{\"outlinewidth\":0,\"ticks\":\"\"}},\"type\":\"scatter3d\"}],\"scattercarpet\":[{\"marker\":{\"colorbar\":{\"outlinewidth\":0,\"ticks\":\"\"}},\"type\":\"scattercarpet\"}],\"scattergeo\":[{\"marker\":{\"colorbar\":{\"outlinewidth\":0,\"ticks\":\"\"}},\"type\":\"scattergeo\"}],\"scattergl\":[{\"marker\":{\"colorbar\":{\"outlinewidth\":0,\"ticks\":\"\"}},\"type\":\"scattergl\"}],\"scattermapbox\":[{\"marker\":{\"colorbar\":{\"outlinewidth\":0,\"ticks\":\"\"}},\"type\":\"scattermapbox\"}],\"scatterpolar\":[{\"marker\":{\"colorbar\":{\"outlinewidth\":0,\"ticks\":\"\"}},\"type\":\"scatterpolar\"}],\"scatterpolargl\":[{\"marker\":{\"colorbar\":{\"outlinewidth\":0,\"ticks\":\"\"}},\"type\":\"scatterpolargl\"}],\"scatterternary\":[{\"marker\":{\"colorbar\":{\"outlinewidth\":0,\"ticks\":\"\"}},\"type\":\"scatterternary\"}],\"surface\":[{\"colorbar\":{\"outlinewidth\":0,\"ticks\":\"\"},\"colorscale\":[[0.0,\"#0d0887\"],[0.1111111111111111,\"#46039f\"],[0.2222222222222222,\"#7201a8\"],[0.3333333333333333,\"#9c179e\"],[0.4444444444444444,\"#bd3786\"],[0.5555555555555556,\"#d8576b\"],[0.6666666666666666,\"#ed7953\"],[0.7777777777777778,\"#fb9f3a\"],[0.8888888888888888,\"#fdca26\"],[1.0,\"#f0f921\"]],\"type\":\"surface\"}],\"table\":[{\"cells\":{\"fill\":{\"color\":\"#EBF0F8\"},\"line\":{\"color\":\"white\"}},\"header\":{\"fill\":{\"color\":\"#C8D4E3\"},\"line\":{\"color\":\"white\"}},\"type\":\"table\"}]},\"layout\":{\"annotationdefaults\":{\"arrowcolor\":\"#2a3f5f\",\"arrowhead\":0,\"arrowwidth\":1},\"autotypenumbers\":\"strict\",\"coloraxis\":{\"colorbar\":{\"outlinewidth\":0,\"ticks\":\"\"}},\"colorscale\":{\"diverging\":[[0,\"#8e0152\"],[0.1,\"#c51b7d\"],[0.2,\"#de77ae\"],[0.3,\"#f1b6da\"],[0.4,\"#fde0ef\"],[0.5,\"#f7f7f7\"],[0.6,\"#e6f5d0\"],[0.7,\"#b8e186\"],[0.8,\"#7fbc41\"],[0.9,\"#4d9221\"],[1,\"#276419\"]],\"sequential\":[[0.0,\"#0d0887\"],[0.1111111111111111,\"#46039f\"],[0.2222222222222222,\"#7201a8\"],[0.3333333333333333,\"#9c179e\"],[0.4444444444444444,\"#bd3786\"],[0.5555555555555556,\"#d8576b\"],[0.6666666666666666,\"#ed7953\"],[0.7777777777777778,\"#fb9f3a\"],[0.8888888888888888,\"#fdca26\"],[1.0,\"#f0f921\"]],\"sequentialminus\":[[0.0,\"#0d0887\"],[0.1111111111111111,\"#46039f\"],[0.2222222222222222,\"#7201a8\"],[0.3333333333333333,\"#9c179e\"],[0.4444444444444444,\"#bd3786\"],[0.5555555555555556,\"#d8576b\"],[0.6666666666666666,\"#ed7953\"],[0.7777777777777778,\"#fb9f3a\"],[0.8888888888888888,\"#fdca26\"],[1.0,\"#f0f921\"]]},\"colorway\":[\"#636efa\",\"#EF553B\",\"#00cc96\",\"#ab63fa\",\"#FFA15A\",\"#19d3f3\",\"#FF6692\",\"#B6E880\",\"#FF97FF\",\"#FECB52\"],\"font\":{\"color\":\"#2a3f5f\"},\"geo\":{\"bgcolor\":\"white\",\"lakecolor\":\"white\",\"landcolor\":\"#E5ECF6\",\"showlakes\":true,\"showland\":true,\"subunitcolor\":\"white\"},\"hoverlabel\":{\"align\":\"left\"},\"hovermode\":\"closest\",\"mapbox\":{\"style\":\"light\"},\"paper_bgcolor\":\"white\",\"plot_bgcolor\":\"#E5ECF6\",\"polar\":{\"angularaxis\":{\"gridcolor\":\"white\",\"linecolor\":\"white\",\"ticks\":\"\"},\"bgcolor\":\"#E5ECF6\",\"radialaxis\":{\"gridcolor\":\"white\",\"linecolor\":\"white\",\"ticks\":\"\"}},\"scene\":{\"xaxis\":{\"backgroundcolor\":\"#E5ECF6\",\"gridcolor\":\"white\",\"gridwidth\":2,\"linecolor\":\"white\",\"showbackground\":true,\"ticks\":\"\",\"zerolinecolor\":\"white\"},\"yaxis\":{\"backgroundcolor\":\"#E5ECF6\",\"gridcolor\":\"white\",\"gridwidth\":2,\"linecolor\":\"white\",\"showbackground\":true,\"ticks\":\"\",\"zerolinecolor\":\"white\"},\"zaxis\":{\"backgroundcolor\":\"#E5ECF6\",\"gridcolor\":\"white\",\"gridwidth\":2,\"linecolor\":\"white\",\"showbackground\":true,\"ticks\":\"\",\"zerolinecolor\":\"white\"}},\"shapedefaults\":{\"line\":{\"color\":\"#2a3f5f\"}},\"ternary\":{\"aaxis\":{\"gridcolor\":\"white\",\"linecolor\":\"white\",\"ticks\":\"\"},\"baxis\":{\"gridcolor\":\"white\",\"linecolor\":\"white\",\"ticks\":\"\"},\"bgcolor\":\"#E5ECF6\",\"caxis\":{\"gridcolor\":\"white\",\"linecolor\":\"white\",\"ticks\":\"\"}},\"title\":{\"x\":0.05},\"xaxis\":{\"automargin\":true,\"gridcolor\":\"white\",\"linecolor\":\"white\",\"ticks\":\"\",\"title\":{\"standoff\":15},\"zerolinecolor\":\"white\",\"zerolinewidth\":2},\"yaxis\":{\"automargin\":true,\"gridcolor\":\"white\",\"linecolor\":\"white\",\"ticks\":\"\",\"title\":{\"standoff\":15},\"zerolinecolor\":\"white\",\"zerolinewidth\":2}}},\"ternary\":{\"domain\":{\"x\":[0.0,1.0],\"y\":[0.0,1.0]},\"aaxis\":{\"title\":{\"text\":\"openness\"}},\"baxis\":{\"title\":{\"text\":\"extraversion\"}},\"caxis\":{\"title\":{\"text\":\"conscientiousness\"}}},\"legend\":{\"tracegroupgap\":0},\"margin\":{\"t\":60}},                        {\"responsive\": true}                    ).then(function(){\n",
       "                            \n",
       "var gd = document.getElementById('aa3d9bb0-2dcf-43c2-94c7-3c206df4d34a');\n",
       "var x = new MutationObserver(function (mutations, observer) {{\n",
       "        var display = window.getComputedStyle(gd).display;\n",
       "        if (!display || display === 'none') {{\n",
       "            console.log([gd, 'removed!']);\n",
       "            Plotly.purge(gd);\n",
       "            observer.disconnect();\n",
       "        }}\n",
       "}});\n",
       "\n",
       "// Listen for the removal of the full notebook cells\n",
       "var notebookContainer = gd.closest('#notebook-container');\n",
       "if (notebookContainer) {{\n",
       "    x.observe(notebookContainer, {childList: true});\n",
       "}}\n",
       "\n",
       "// Listen for the clearing of the current output cell\n",
       "var outputEl = gd.closest('.output');\n",
       "if (outputEl) {{\n",
       "    x.observe(outputEl, {childList: true});\n",
       "}}\n",
       "\n",
       "                        })                };                });            </script>        </div>"
      ]
     },
     "metadata": {},
     "output_type": "display_data"
    }
   ],
   "source": [
    "fig = px.scatter_ternary(df,a=\"openness\",b=\"extraversion\", c=\"conscientiousness\")\n",
    "fig.show()"
   ]
  },
  {
   "cell_type": "markdown",
   "id": "ac94599c-b8d1-47cd-bcd9-53c11c805da6",
   "metadata": {},
   "source": [
    "El gráfico que se expone a continuación, se ve un poco tedioso de comprender, pero aún así, es muy completo. Esta figura contiene cada una de las características del dataset identificando el género de las personas y clasificándolas por su edad. Al pasar el mouse sobre el gráfico, se puede seguir el hilo de las respuestas que tuvo el usuario en cada etiqueta del dataset. Lo que se debe especificar en código, es con qué variable se van a identificar o clasificar los datos de las demás características, como se observa a continuación."
   ]
  },
  {
   "cell_type": "code",
   "execution_count": 62,
   "id": "243d0fac-6f8e-4be9-89a0-5ec00e9a07bd",
   "metadata": {},
   "outputs": [
    {
     "data": {
      "application/vnd.plotly.v1+json": {
       "config": {
        "plotlyServerURL": "https://plot.ly"
       },
       "data": [
        {
         "dimensions": [
          {
           "label": "Gender",
           "values": [
            "Female",
            "Male",
            "Female",
            "Female",
            "Female",
            "Female",
            "Female",
            "Male",
            "Male",
            "Male",
            "Male",
            "Male",
            "Female",
            "Female",
            "Female",
            "Female",
            "Male",
            "Male",
            "Male",
            "Female",
            "Female",
            "Female",
            "Female",
            "Male",
            "Female",
            "Male",
            "Male",
            "Male",
            "Male",
            "Female",
            "Male",
            "Male",
            "Male",
            "Female",
            "Male",
            "Female",
            "Male",
            "Male",
            "Female",
            "Female",
            "Male",
            "Female",
            "Female",
            "Female",
            "Female",
            "Male",
            "Female",
            "Female",
            "Female",
            "Male",
            "Male",
            "Male",
            "Female",
            "Male",
            "Female",
            "Male",
            "Female",
            "Female",
            "Male",
            "Male",
            "Female",
            "Male",
            "Female",
            "Male",
            "Female",
            "Female",
            "Male",
            "Male",
            "Male",
            "Male",
            "Male",
            "Female",
            "Male",
            "Male",
            "Female",
            "Female",
            "Male",
            "Female",
            "Male",
            "Female",
            "Male",
            "Male",
            "Male",
            "Female",
            "Male",
            "Male",
            "Female",
            "Female",
            "Male",
            "Female",
            "Male",
            "Female",
            "Female",
            "Female",
            "Female",
            "Male",
            "Male",
            "Female",
            "Female",
            "Female",
            "Female",
            "Female",
            "Female",
            "Female",
            "Male",
            "Male",
            "Female",
            "Female",
            "Male",
            "Male",
            "Male",
            "Female",
            "Male",
            "Male",
            "Male",
            "Female",
            "Female",
            "Male",
            "Male",
            "Female",
            "Male",
            "Female",
            "Male",
            "Female",
            "Male",
            "Male",
            "Male",
            "Male",
            "Female",
            "Female",
            "Female",
            "Female",
            "Male",
            "Male",
            "Male",
            "Female",
            "Female",
            "Female",
            "Male",
            "Female",
            "Female",
            "Male",
            "Female",
            "Female",
            "Female",
            "Female",
            "Male",
            "Male",
            "Male",
            "Female",
            "Female",
            "Male",
            "Female",
            "Female",
            "Male",
            "Male",
            "Female",
            "Male",
            "Female",
            "Female",
            "Female",
            "Female",
            "Male",
            "Female",
            "Female",
            "Male",
            "Female",
            "Male",
            "Female",
            "Female",
            "Female",
            "Male",
            "Female",
            "Female",
            "Female",
            "Male",
            "Female",
            "Female",
            "Male",
            "Male",
            "Male",
            "Male",
            "Female",
            "Female",
            "Female",
            "Male",
            "Male",
            "Female",
            "Female",
            "Male",
            "Female",
            "Male",
            "Male",
            "Male",
            "Male",
            "Female",
            "Male",
            "Female",
            "Male",
            "Female",
            "Male",
            "Male",
            "Male",
            "Female",
            "Female",
            "Male",
            "Male",
            "Female",
            "Female",
            "Male",
            "Female",
            "Female",
            "Male",
            "Female",
            "Male",
            "Male",
            "Male",
            "Female",
            "Male",
            "Male",
            "Male",
            "Male",
            "Female",
            "Male",
            "Male",
            "Male",
            "Male",
            "Female",
            "Female",
            "Male",
            "Female",
            "Male",
            "Male",
            "Female",
            "Female",
            "Male",
            "Male",
            "Female",
            "Male",
            "Female",
            "Male",
            "Male",
            "Female",
            "Male",
            "Female",
            "Female",
            "Male",
            "Male",
            "Female",
            "Female",
            "Female",
            "Male",
            "Male",
            "Male",
            "Male",
            "Female",
            "Female",
            "Female",
            "Male",
            "Male",
            "Female",
            "Female",
            "Female",
            "Male",
            "Male",
            "Male",
            "Female",
            "Male",
            "Female",
            "Male",
            "Female",
            "Male",
            "Female",
            "Male",
            "Female",
            "Female",
            "Female",
            "Male",
            "Female",
            "Male",
            "Male",
            "Male",
            "Male",
            "Female",
            "Male",
            "Female",
            "Male",
            "Female",
            "Female",
            "Male",
            "Male",
            "Female",
            "Female",
            "Male",
            "Male",
            "Female",
            "Male",
            "Female",
            "Female",
            "Female",
            "Male",
            "Male",
            "Male",
            "Male",
            "Female",
            "Female",
            "Female",
            "Male",
            "Male",
            "Male",
            "Female",
            "Male",
            "Male",
            "Male",
            "Female"
           ]
          },
          {
           "label": "Age",
           "values": [
            20,
            17,
            25,
            18,
            19,
            19,
            24,
            27,
            20,
            21,
            20,
            19,
            20,
            20,
            19,
            17,
            17,
            18,
            23,
            23,
            24,
            25,
            20,
            19,
            19,
            17,
            17,
            22,
            23,
            21,
            19,
            24,
            25,
            26,
            23,
            18,
            19,
            20,
            17,
            21,
            18,
            19,
            22,
            20,
            25,
            24,
            17,
            21,
            25,
            23,
            17,
            19,
            24,
            24,
            19,
            28,
            20,
            21,
            19,
            24,
            25,
            26,
            21,
            19,
            18,
            20,
            19,
            21,
            21,
            18,
            19,
            24,
            23,
            25,
            23,
            19,
            20,
            21,
            19,
            18,
            20,
            23,
            19,
            26,
            20,
            18,
            23,
            21,
            21,
            17,
            24,
            19,
            22,
            21,
            20,
            23,
            19,
            23,
            18,
            18,
            24,
            18,
            23,
            18,
            19,
            19,
            22,
            19,
            18,
            19,
            20,
            18,
            22,
            19,
            25,
            17,
            19,
            18,
            17,
            23,
            20,
            25,
            20,
            21,
            22,
            19,
            20,
            19,
            19,
            19,
            22,
            19,
            24,
            19,
            19,
            18,
            22,
            19,
            18,
            19,
            22,
            19,
            19,
            19,
            25,
            19,
            19,
            18,
            26,
            22,
            17,
            20,
            23,
            19,
            19,
            22,
            21,
            18,
            19,
            19,
            20,
            19,
            23,
            20,
            17,
            18,
            21,
            22,
            19,
            25,
            26,
            27,
            18,
            17,
            19,
            19,
            23,
            22,
            23,
            21,
            17,
            20,
            20,
            18,
            24,
            19,
            18,
            19,
            23,
            21,
            21,
            25,
            18,
            17,
            20,
            18,
            24,
            19,
            18,
            18,
            21,
            18,
            17,
            17,
            21,
            20,
            18,
            19,
            23,
            18,
            18,
            20,
            24,
            20,
            18,
            18,
            23,
            18,
            21,
            21,
            22,
            18,
            19,
            19,
            23,
            19,
            19,
            20,
            18,
            21,
            20,
            17,
            22,
            19,
            17,
            20,
            22,
            19,
            19,
            21,
            18,
            26,
            26,
            24,
            18,
            20,
            18,
            19,
            22,
            17,
            21,
            20,
            19,
            17,
            20,
            18,
            22,
            19,
            18,
            20,
            19,
            5,
            21,
            22,
            19,
            20,
            18,
            19,
            22,
            18,
            18,
            20,
            22,
            17,
            18,
            19,
            21,
            24,
            21,
            20,
            19,
            19,
            17,
            17,
            22,
            17,
            18,
            19,
            23,
            20,
            21,
            20,
            20,
            19,
            25,
            25,
            17,
            18,
            25,
            22,
            17,
            18,
            23,
            24,
            19,
            19,
            17,
            20,
            18,
            22,
            19,
            18,
            18,
            23,
            18
           ]
          },
          {
           "label": "openness",
           "values": [
            7,
            5,
            5,
            6,
            2,
            6,
            1,
            4,
            6,
            5,
            6,
            4,
            4,
            4,
            7,
            6,
            5,
            5,
            4,
            5,
            5,
            5,
            4,
            6,
            6,
            6,
            4,
            6,
            3,
            4,
            4,
            6,
            5,
            6,
            7,
            4,
            2,
            2,
            3,
            5,
            5,
            2,
            3,
            8,
            4,
            5,
            5,
            5,
            2,
            5,
            6,
            5,
            2,
            4,
            6,
            4,
            3,
            4,
            5,
            6,
            3,
            6,
            7,
            5,
            3,
            4,
            1,
            5,
            3,
            3,
            5,
            6,
            3,
            7,
            3,
            4,
            4,
            5,
            5,
            5,
            6,
            7,
            7,
            5,
            5,
            6,
            2,
            4,
            1,
            6,
            4,
            6,
            5,
            5,
            6,
            3,
            5,
            5,
            5,
            4,
            6,
            2,
            6,
            7,
            5,
            4,
            6,
            5,
            7,
            3,
            6,
            4,
            6,
            5,
            5,
            6,
            4,
            4,
            5,
            6,
            6,
            6,
            4,
            7,
            5,
            7,
            6,
            5,
            4,
            5,
            5,
            6,
            5,
            6,
            6,
            4,
            3,
            5,
            7,
            6,
            5,
            5,
            6,
            5,
            5,
            6,
            3,
            6,
            6,
            4,
            7,
            6,
            5,
            5,
            6,
            3,
            5,
            3,
            5,
            3,
            5,
            5,
            4,
            3,
            2,
            4,
            6,
            7,
            4,
            3,
            1,
            1,
            4,
            5,
            6,
            6,
            7,
            7,
            3,
            4,
            7,
            5,
            6,
            4,
            4,
            7,
            4,
            6,
            6,
            5,
            6,
            7,
            3,
            7,
            3,
            5,
            5,
            6,
            3,
            5,
            6,
            4,
            5,
            5,
            5,
            7,
            6,
            3,
            6,
            8,
            2,
            6,
            6,
            5,
            7,
            6,
            6,
            7,
            7,
            6,
            4,
            5,
            6,
            2,
            5,
            7,
            1,
            3,
            5,
            6,
            2,
            3,
            3,
            6,
            6,
            3,
            4,
            6,
            6,
            4,
            7,
            2,
            3,
            5,
            2,
            5,
            6,
            1,
            3,
            6,
            2,
            4,
            7,
            6,
            6,
            1,
            5,
            6,
            5,
            7,
            6,
            5,
            7,
            6,
            4,
            5,
            5,
            4,
            7,
            6,
            5,
            1,
            5,
            3,
            6,
            6,
            5,
            4,
            1,
            4,
            4,
            7,
            6,
            7,
            7,
            6,
            6,
            6,
            6,
            7,
            5,
            5,
            5,
            4,
            5,
            7,
            3,
            5,
            5,
            6,
            6,
            5,
            4,
            4,
            6,
            4,
            6,
            1,
            3,
            4,
            6,
            2,
            7,
            6,
            5
           ]
          },
          {
           "label": "neuroticism",
           "values": [
            9,
            4,
            5,
            2,
            4,
            4,
            2,
            5,
            4,
            4,
            1,
            4,
            5,
            4,
            2,
            6,
            4,
            3,
            2,
            4,
            3,
            7,
            5,
            6,
            1,
            6,
            6,
            8,
            6,
            2,
            4,
            2,
            5,
            2,
            4,
            4,
            4,
            2,
            7,
            4,
            4,
            5,
            6,
            2,
            6,
            6,
            6,
            6,
            5,
            7,
            5,
            5,
            6,
            5,
            6,
            7,
            5,
            4,
            2,
            4,
            2,
            4,
            5,
            5,
            5,
            5,
            4,
            6,
            4,
            3,
            1,
            4,
            6,
            2,
            3,
            6,
            4,
            4,
            5,
            7,
            4,
            5,
            6,
            6,
            3,
            2,
            2,
            3,
            1,
            3,
            4,
            3,
            5,
            3,
            2,
            6,
            4,
            6,
            5,
            5,
            5,
            7,
            6,
            4,
            5,
            7,
            2,
            6,
            2,
            4,
            1,
            6,
            1,
            1,
            5,
            6,
            1,
            3,
            1,
            7,
            2,
            1,
            1,
            4,
            4,
            2,
            1,
            5,
            1,
            5,
            1,
            6,
            1,
            6,
            7,
            5,
            4,
            5,
            2,
            5,
            3,
            5,
            1,
            1,
            3,
            4,
            4,
            3,
            4,
            4,
            3,
            1,
            7,
            6,
            5,
            4,
            7,
            5,
            6,
            5,
            6,
            4,
            3,
            4,
            6,
            4,
            6,
            7,
            7,
            3,
            5,
            5,
            2,
            5,
            1,
            3,
            2,
            3,
            3,
            4,
            1,
            6,
            5,
            4,
            4,
            3,
            3,
            6,
            6,
            5,
            4,
            7,
            6,
            5,
            4,
            5,
            6,
            6,
            5,
            4,
            4,
            6,
            4,
            4,
            5,
            5,
            3,
            5,
            6,
            3,
            7,
            6,
            7,
            8,
            7,
            6,
            6,
            7,
            6,
            7,
            6,
            7,
            6,
            5,
            4,
            8,
            6,
            7,
            6,
            7,
            6,
            7,
            7,
            6,
            7,
            7,
            4,
            8,
            5,
            5,
            5,
            5,
            6,
            4,
            6,
            6,
            5,
            5,
            3,
            6,
            3,
            7,
            3,
            6,
            4,
            4,
            3,
            8,
            1,
            4,
            2,
            5,
            1,
            2,
            4,
            5,
            4,
            3,
            4,
            6,
            8,
            7,
            5,
            2,
            6,
            2,
            6,
            6,
            6,
            6,
            2,
            7,
            5,
            6,
            5,
            7,
            6,
            5,
            5,
            7,
            8,
            6,
            5,
            6,
            8,
            4,
            7,
            5,
            8,
            5,
            3,
            6,
            4,
            7,
            3,
            5,
            3,
            2,
            3,
            4,
            5,
            5,
            5,
            7,
            7
           ]
          },
          {
           "label": "conscientiousness",
           "values": [
            9,
            5,
            7,
            7,
            7,
            7,
            7,
            7,
            5,
            4,
            7,
            4,
            5,
            4,
            4,
            5,
            6,
            5,
            1,
            4,
            7,
            3,
            6,
            5,
            5,
            7,
            3,
            2,
            6,
            3,
            6,
            5,
            1,
            6,
            7,
            6,
            5,
            4,
            3,
            6,
            6,
            4,
            6,
            5,
            6,
            3,
            6,
            7,
            4,
            1,
            6,
            5,
            7,
            5,
            5,
            6,
            3,
            5,
            7,
            5,
            7,
            6,
            5,
            4,
            4,
            5,
            6,
            5,
            6,
            5,
            1,
            4,
            5,
            5,
            3,
            5,
            5,
            2,
            7,
            7,
            7,
            4,
            4,
            5,
            7,
            7,
            6,
            4,
            6,
            5,
            4,
            2,
            5,
            6,
            5,
            6,
            4,
            6,
            8,
            6,
            5,
            1,
            1,
            3,
            4,
            4,
            1,
            2,
            7,
            3,
            1,
            7,
            5,
            1,
            6,
            4,
            5,
            3,
            5,
            5,
            5,
            4,
            2,
            5,
            7,
            1,
            3,
            3,
            6,
            5,
            5,
            7,
            2,
            6,
            7,
            5,
            3,
            2,
            5,
            5,
            6,
            5,
            7,
            3,
            2,
            3,
            5,
            6,
            5,
            1,
            5,
            6,
            6,
            5,
            4,
            3,
            2,
            7,
            4,
            3,
            5,
            3,
            2,
            7,
            6,
            4,
            5,
            2,
            7,
            5,
            5,
            2,
            3,
            3,
            5,
            3,
            4,
            4,
            5,
            1,
            4,
            6,
            4,
            1,
            4,
            3,
            6,
            2,
            6,
            2,
            6,
            5,
            7,
            7,
            6,
            5,
            7,
            6,
            4,
            6,
            7,
            3,
            5,
            6,
            7,
            5,
            6,
            3,
            6,
            6,
            6,
            1,
            3,
            2,
            8,
            3,
            3,
            7,
            6,
            7,
            3,
            5,
            5,
            5,
            6,
            7,
            7,
            3,
            7,
            7,
            5,
            6,
            6,
            3,
            4,
            7,
            5,
            1,
            6,
            7,
            7,
            3,
            6,
            5,
            6,
            2,
            5,
            4,
            2,
            3,
            7,
            3,
            4,
            2,
            8,
            2,
            4,
            6,
            6,
            7,
            3,
            5,
            7,
            2,
            5,
            3,
            4,
            1,
            4,
            3,
            5,
            6,
            4,
            7,
            8,
            7,
            3,
            5,
            7,
            6,
            6,
            4,
            5,
            5,
            7,
            7,
            7,
            5,
            7,
            2,
            5,
            4,
            4,
            6,
            4,
            3,
            1,
            6,
            7,
            5,
            7,
            6,
            5,
            7,
            2,
            6,
            6,
            5,
            6,
            7,
            6,
            8,
            6,
            5,
            3
           ]
          },
          {
           "label": "agreeableness",
           "values": [
            5,
            2,
            2,
            4,
            1,
            5,
            4,
            4,
            6,
            6,
            6,
            4,
            5,
            4,
            3,
            7,
            6,
            6,
            5,
            5,
            3,
            7,
            5,
            1,
            5,
            6,
            5,
            6,
            7,
            5,
            4,
            2,
            7,
            3,
            5,
            3,
            5,
            7,
            3,
            1,
            2,
            6,
            1,
            1,
            3,
            3,
            2,
            4,
            4,
            3,
            2,
            4,
            4,
            6,
            3,
            2,
            8,
            6,
            7,
            2,
            2,
            6,
            1,
            2,
            8,
            2,
            7,
            1,
            4,
            7,
            5,
            1,
            5,
            5,
            5,
            4,
            7,
            5,
            7,
            4,
            6,
            6,
            3,
            7,
            8,
            6,
            4,
            5,
            5,
            6,
            5,
            4,
            5,
            8,
            6,
            4,
            5,
            6,
            6,
            5,
            6,
            4,
            2,
            6,
            6,
            6,
            6,
            5,
            3,
            6,
            7,
            7,
            6,
            2,
            6,
            7,
            7,
            7,
            7,
            7,
            8,
            6,
            7,
            7,
            5,
            6,
            7,
            7,
            6,
            4,
            6,
            6,
            5,
            4,
            4,
            4,
            1,
            7,
            5,
            4,
            6,
            6,
            3,
            7,
            7,
            5,
            6,
            7,
            5,
            7,
            3,
            4,
            5,
            4,
            5,
            4,
            6,
            3,
            2,
            3,
            6,
            5,
            6,
            6,
            2,
            4,
            6,
            5,
            3,
            4,
            5,
            7,
            5,
            1,
            5,
            6,
            6,
            4,
            4,
            6,
            5,
            3,
            4,
            5,
            6,
            5,
            6,
            3,
            3,
            7,
            6,
            6,
            4,
            5,
            6,
            7,
            4,
            5,
            4,
            7,
            5,
            6,
            8,
            7,
            6,
            4,
            6,
            5,
            4,
            7,
            6,
            5,
            1,
            5,
            4,
            6,
            6,
            5,
            6,
            4,
            5,
            4,
            4,
            3,
            4,
            4,
            8,
            2,
            5,
            6,
            5,
            3,
            6,
            5,
            4,
            5,
            2,
            3,
            7,
            7,
            5,
            6,
            6,
            7,
            7,
            2,
            5,
            7,
            6,
            6,
            8,
            5,
            7,
            5,
            5,
            5,
            5,
            4,
            6,
            6,
            5,
            5,
            8,
            4,
            4,
            4,
            6,
            7,
            3,
            2,
            5,
            3,
            5,
            4,
            2,
            1,
            5,
            6,
            4,
            3,
            2,
            4,
            5,
            5,
            2,
            4,
            6,
            6,
            4,
            7,
            6,
            6,
            4,
            4,
            6,
            8,
            5,
            6,
            1,
            7,
            1,
            4,
            6,
            3,
            4,
            5,
            4,
            8,
            5,
            5,
            4,
            3,
            2,
            4,
            5
           ]
          },
          {
           "label": "extraversion",
           "values": [
            5,
            4,
            4,
            7,
            3,
            5,
            6,
            4,
            6,
            4,
            5,
            3,
            2,
            5,
            4,
            6,
            5,
            7,
            6,
            4,
            5,
            6,
            5,
            3,
            6,
            4,
            4,
            4,
            3,
            4,
            3,
            2,
            6,
            3,
            5,
            5,
            6,
            5,
            7,
            5,
            1,
            3,
            6,
            4,
            6,
            8,
            3,
            6,
            7,
            6,
            7,
            3,
            6,
            2,
            6,
            5,
            5,
            4,
            6,
            6,
            3,
            4,
            5,
            7,
            7,
            4,
            5,
            4,
            7,
            5,
            5,
            7,
            6,
            5,
            4,
            4,
            6,
            8,
            4,
            5,
            5,
            6,
            5,
            3,
            6,
            4,
            6,
            6,
            6,
            4,
            6,
            3,
            6,
            6,
            7,
            3,
            5,
            3,
            5,
            6,
            3,
            8,
            2,
            1,
            4,
            8,
            6,
            5,
            6,
            5,
            6,
            7,
            4,
            8,
            5,
            5,
            5,
            4,
            6,
            6,
            1,
            3,
            5,
            7,
            3,
            5,
            5,
            6,
            4,
            6,
            6,
            5,
            4,
            4,
            4,
            5,
            5,
            7,
            5,
            7,
            5,
            6,
            7,
            6,
            7,
            4,
            6,
            5,
            5,
            6,
            6,
            4,
            6,
            4,
            7,
            3,
            5,
            6,
            7,
            2,
            1,
            5,
            6,
            6,
            5,
            4,
            5,
            7,
            5,
            5,
            5,
            6,
            5,
            5,
            6,
            5,
            4,
            5,
            7,
            4,
            4,
            4,
            5,
            6,
            3,
            6,
            3,
            5,
            3,
            5,
            5,
            6,
            3,
            1,
            5,
            4,
            5,
            5,
            2,
            4,
            5,
            5,
            1,
            5,
            4,
            5,
            6,
            5,
            6,
            6,
            4,
            5,
            5,
            7,
            2,
            6,
            3,
            6,
            5,
            5,
            4,
            5,
            4,
            7,
            5,
            3,
            7,
            5,
            4,
            5,
            3,
            7,
            7,
            7,
            5,
            6,
            3,
            6,
            5,
            5,
            5,
            6,
            5,
            8,
            6,
            3,
            7,
            6,
            4,
            5,
            5,
            4,
            5,
            6,
            5,
            5,
            2,
            4,
            3,
            7,
            4,
            5,
            5,
            4,
            5,
            3,
            6,
            5,
            6,
            6,
            4,
            7,
            3,
            6,
            1,
            4,
            4,
            2,
            6,
            6,
            3,
            5,
            5,
            5,
            3,
            5,
            5,
            4,
            3,
            6,
            6,
            7,
            5,
            5,
            6,
            5,
            5,
            4,
            1,
            5,
            8,
            4,
            4,
            6,
            8,
            5,
            6,
            4,
            5,
            6,
            3,
            7,
            7,
            3,
            6
           ]
          },
          {
           "label": "Personality (class label)",
           "values": [
            "dependable",
            "serious",
            "serious",
            "serious",
            "responsible",
            "serious",
            "extraverted",
            "serious",
            "serious",
            "serious",
            "serious",
            "responsible",
            "responsible",
            "serious",
            "lively",
            "extraverted",
            "serious",
            "serious",
            "serious",
            "extraverted",
            "serious",
            "dependable",
            "serious",
            "extraverted",
            "extraverted",
            "serious",
            "extraverted",
            "dependable",
            "serious",
            "responsible",
            "serious",
            "lively",
            "extraverted",
            "lively",
            "serious",
            "serious",
            "serious",
            "serious",
            "extraverted",
            "serious",
            "responsible",
            "responsible",
            "serious",
            "extraverted",
            "dependable",
            "serious",
            "responsible",
            "dependable",
            "serious",
            "extraverted",
            "serious",
            "serious",
            "serious",
            "lively",
            "extraverted",
            "serious",
            "extraverted",
            "serious",
            "serious",
            "serious",
            "responsible",
            "serious",
            "dependable",
            "serious",
            "serious",
            "responsible",
            "serious",
            "serious",
            "serious",
            "serious",
            "serious",
            "serious",
            "serious",
            "serious",
            "responsible",
            "extraverted",
            "serious",
            "serious",
            "serious",
            "extraverted",
            "serious",
            "serious",
            "extraverted",
            "extraverted",
            "serious",
            "lively",
            "serious",
            "serious",
            "serious",
            "serious",
            "dependable",
            "responsible",
            "responsible",
            "serious",
            "serious",
            "serious",
            "serious",
            "extraverted",
            "serious",
            "serious",
            "extraverted",
            "extraverted",
            "extraverted",
            "extraverted",
            "dependable",
            "serious",
            "serious",
            "extraverted",
            "dependable",
            "serious",
            "serious",
            "serious",
            "lively",
            "serious",
            "extraverted",
            "extraverted",
            "serious",
            "serious",
            "serious",
            "extraverted",
            "lively",
            "lively",
            "responsible",
            "serious",
            "lively",
            "serious",
            "serious",
            "responsible",
            "responsible",
            "serious",
            "dependable",
            "dependable",
            "serious",
            "serious",
            "dependable",
            "responsible",
            "responsible",
            "extraverted",
            "serious",
            "serious",
            "serious",
            "serious",
            "serious",
            "serious",
            "dependable",
            "extraverted",
            "serious",
            "serious",
            "serious",
            "serious",
            "serious",
            "lively",
            "extraverted",
            "extraverted",
            "responsible",
            "responsible",
            "extraverted",
            "serious",
            "serious",
            "responsible",
            "extraverted",
            "serious",
            "dependable",
            "serious",
            "responsible",
            "lively",
            "extraverted",
            "responsible",
            "extraverted",
            "serious",
            "serious",
            "serious",
            "responsible",
            "responsible",
            "serious",
            "serious",
            "lively",
            "serious",
            "responsible",
            "serious",
            "lively",
            "serious",
            "extraverted",
            "extraverted",
            "extraverted",
            "serious",
            "serious",
            "extraverted",
            "extraverted",
            "serious",
            "serious",
            "extraverted",
            "lively",
            "lively",
            "serious",
            "extraverted",
            "serious",
            "extraverted",
            "responsible",
            "dependable",
            "serious",
            "serious",
            "lively",
            "extraverted",
            "serious",
            "serious",
            "serious",
            "extraverted",
            "responsible",
            "serious",
            "extraverted",
            "responsible",
            "extraverted",
            "extraverted",
            "lively",
            "dependable",
            "extraverted",
            "dependable",
            "serious",
            "dependable",
            "lively",
            "extraverted",
            "dependable",
            "serious",
            "serious",
            "extraverted",
            "serious",
            "extraverted",
            "responsible",
            "serious",
            "extraverted",
            "serious",
            "serious",
            "serious",
            "extraverted",
            "serious",
            "serious",
            "extraverted",
            "serious",
            "serious",
            "serious",
            "serious",
            "extraverted",
            "serious",
            "extraverted",
            "extraverted",
            "serious",
            "serious",
            "responsible",
            "extraverted",
            "serious",
            "responsible",
            "serious",
            "extraverted",
            "serious",
            "lively",
            "responsible",
            "extraverted",
            "lively",
            "serious",
            "responsible",
            "responsible",
            "lively",
            "dependable",
            "serious",
            "serious",
            "serious",
            "serious",
            "responsible",
            "serious",
            "extraverted",
            "serious",
            "lively",
            "serious",
            "responsible",
            "responsible",
            "serious",
            "extraverted",
            "serious",
            "serious",
            "responsible",
            "extraverted",
            "responsible",
            "extraverted",
            "lively",
            "responsible",
            "serious",
            "extraverted",
            "extraverted",
            "extraverted",
            "extraverted",
            "extraverted",
            "lively",
            "serious",
            "extraverted",
            "extraverted",
            "extraverted",
            "extraverted",
            "extraverted",
            "extraverted",
            "serious",
            "serious",
            "serious",
            "serious",
            "serious",
            "serious",
            "serious",
            "serious",
            "serious",
            "serious",
            "extraverted",
            "dependable",
            "serious",
            "extraverted",
            "extraverted"
           ]
          }
         ],
         "domain": {
          "x": [
           0,
           1
          ],
          "y": [
           0,
           1
          ]
         },
         "line": {
          "color": [
           20,
           17,
           25,
           18,
           19,
           19,
           24,
           27,
           20,
           21,
           20,
           19,
           20,
           20,
           19,
           17,
           17,
           18,
           23,
           23,
           24,
           25,
           20,
           19,
           19,
           17,
           17,
           22,
           23,
           21,
           19,
           24,
           25,
           26,
           23,
           18,
           19,
           20,
           17,
           21,
           18,
           19,
           22,
           20,
           25,
           24,
           17,
           21,
           25,
           23,
           17,
           19,
           24,
           24,
           19,
           28,
           20,
           21,
           19,
           24,
           25,
           26,
           21,
           19,
           18,
           20,
           19,
           21,
           21,
           18,
           19,
           24,
           23,
           25,
           23,
           19,
           20,
           21,
           19,
           18,
           20,
           23,
           19,
           26,
           20,
           18,
           23,
           21,
           21,
           17,
           24,
           19,
           22,
           21,
           20,
           23,
           19,
           23,
           18,
           18,
           24,
           18,
           23,
           18,
           19,
           19,
           22,
           19,
           18,
           19,
           20,
           18,
           22,
           19,
           25,
           17,
           19,
           18,
           17,
           23,
           20,
           25,
           20,
           21,
           22,
           19,
           20,
           19,
           19,
           19,
           22,
           19,
           24,
           19,
           19,
           18,
           22,
           19,
           18,
           19,
           22,
           19,
           19,
           19,
           25,
           19,
           19,
           18,
           26,
           22,
           17,
           20,
           23,
           19,
           19,
           22,
           21,
           18,
           19,
           19,
           20,
           19,
           23,
           20,
           17,
           18,
           21,
           22,
           19,
           25,
           26,
           27,
           18,
           17,
           19,
           19,
           23,
           22,
           23,
           21,
           17,
           20,
           20,
           18,
           24,
           19,
           18,
           19,
           23,
           21,
           21,
           25,
           18,
           17,
           20,
           18,
           24,
           19,
           18,
           18,
           21,
           18,
           17,
           17,
           21,
           20,
           18,
           19,
           23,
           18,
           18,
           20,
           24,
           20,
           18,
           18,
           23,
           18,
           21,
           21,
           22,
           18,
           19,
           19,
           23,
           19,
           19,
           20,
           18,
           21,
           20,
           17,
           22,
           19,
           17,
           20,
           22,
           19,
           19,
           21,
           18,
           26,
           26,
           24,
           18,
           20,
           18,
           19,
           22,
           17,
           21,
           20,
           19,
           17,
           20,
           18,
           22,
           19,
           18,
           20,
           19,
           5,
           21,
           22,
           19,
           20,
           18,
           19,
           22,
           18,
           18,
           20,
           22,
           17,
           18,
           19,
           21,
           24,
           21,
           20,
           19,
           19,
           17,
           17,
           22,
           17,
           18,
           19,
           23,
           20,
           21,
           20,
           20,
           19,
           25,
           25,
           17,
           18,
           25,
           22,
           17,
           18,
           23,
           24,
           19,
           19,
           17,
           20,
           18,
           22,
           19,
           18,
           18,
           23,
           18
          ],
          "coloraxis": "coloraxis"
         },
         "name": "",
         "type": "parcats"
        }
       ],
       "layout": {
        "autosize": true,
        "coloraxis": {
         "colorbar": {
          "title": {
           "text": "Age"
          }
         },
         "colorscale": [
          [
           0,
           "#000004"
          ],
          [
           0.1111111111111111,
           "#1b0c41"
          ],
          [
           0.2222222222222222,
           "#4a0c6b"
          ],
          [
           0.3333333333333333,
           "#781c6d"
          ],
          [
           0.4444444444444444,
           "#a52c60"
          ],
          [
           0.5555555555555556,
           "#cf4446"
          ],
          [
           0.6666666666666666,
           "#ed6925"
          ],
          [
           0.7777777777777778,
           "#fb9b06"
          ],
          [
           0.8888888888888888,
           "#f7d13d"
          ],
          [
           1,
           "#fcffa4"
          ]
         ]
        },
        "legend": {
         "tracegroupgap": 0
        },
        "margin": {
         "t": 60
        },
        "template": {
         "data": {
          "bar": [
           {
            "error_x": {
             "color": "#2a3f5f"
            },
            "error_y": {
             "color": "#2a3f5f"
            },
            "marker": {
             "line": {
              "color": "#E5ECF6",
              "width": 0.5
             },
             "pattern": {
              "fillmode": "overlay",
              "size": 10,
              "solidity": 0.2
             }
            },
            "type": "bar"
           }
          ],
          "barpolar": [
           {
            "marker": {
             "line": {
              "color": "#E5ECF6",
              "width": 0.5
             },
             "pattern": {
              "fillmode": "overlay",
              "size": 10,
              "solidity": 0.2
             }
            },
            "type": "barpolar"
           }
          ],
          "carpet": [
           {
            "aaxis": {
             "endlinecolor": "#2a3f5f",
             "gridcolor": "white",
             "linecolor": "white",
             "minorgridcolor": "white",
             "startlinecolor": "#2a3f5f"
            },
            "baxis": {
             "endlinecolor": "#2a3f5f",
             "gridcolor": "white",
             "linecolor": "white",
             "minorgridcolor": "white",
             "startlinecolor": "#2a3f5f"
            },
            "type": "carpet"
           }
          ],
          "choropleth": [
           {
            "colorbar": {
             "outlinewidth": 0,
             "ticks": ""
            },
            "type": "choropleth"
           }
          ],
          "contour": [
           {
            "colorbar": {
             "outlinewidth": 0,
             "ticks": ""
            },
            "colorscale": [
             [
              0,
              "#0d0887"
             ],
             [
              0.1111111111111111,
              "#46039f"
             ],
             [
              0.2222222222222222,
              "#7201a8"
             ],
             [
              0.3333333333333333,
              "#9c179e"
             ],
             [
              0.4444444444444444,
              "#bd3786"
             ],
             [
              0.5555555555555556,
              "#d8576b"
             ],
             [
              0.6666666666666666,
              "#ed7953"
             ],
             [
              0.7777777777777778,
              "#fb9f3a"
             ],
             [
              0.8888888888888888,
              "#fdca26"
             ],
             [
              1,
              "#f0f921"
             ]
            ],
            "type": "contour"
           }
          ],
          "contourcarpet": [
           {
            "colorbar": {
             "outlinewidth": 0,
             "ticks": ""
            },
            "type": "contourcarpet"
           }
          ],
          "heatmap": [
           {
            "colorbar": {
             "outlinewidth": 0,
             "ticks": ""
            },
            "colorscale": [
             [
              0,
              "#0d0887"
             ],
             [
              0.1111111111111111,
              "#46039f"
             ],
             [
              0.2222222222222222,
              "#7201a8"
             ],
             [
              0.3333333333333333,
              "#9c179e"
             ],
             [
              0.4444444444444444,
              "#bd3786"
             ],
             [
              0.5555555555555556,
              "#d8576b"
             ],
             [
              0.6666666666666666,
              "#ed7953"
             ],
             [
              0.7777777777777778,
              "#fb9f3a"
             ],
             [
              0.8888888888888888,
              "#fdca26"
             ],
             [
              1,
              "#f0f921"
             ]
            ],
            "type": "heatmap"
           }
          ],
          "heatmapgl": [
           {
            "colorbar": {
             "outlinewidth": 0,
             "ticks": ""
            },
            "colorscale": [
             [
              0,
              "#0d0887"
             ],
             [
              0.1111111111111111,
              "#46039f"
             ],
             [
              0.2222222222222222,
              "#7201a8"
             ],
             [
              0.3333333333333333,
              "#9c179e"
             ],
             [
              0.4444444444444444,
              "#bd3786"
             ],
             [
              0.5555555555555556,
              "#d8576b"
             ],
             [
              0.6666666666666666,
              "#ed7953"
             ],
             [
              0.7777777777777778,
              "#fb9f3a"
             ],
             [
              0.8888888888888888,
              "#fdca26"
             ],
             [
              1,
              "#f0f921"
             ]
            ],
            "type": "heatmapgl"
           }
          ],
          "histogram": [
           {
            "marker": {
             "pattern": {
              "fillmode": "overlay",
              "size": 10,
              "solidity": 0.2
             }
            },
            "type": "histogram"
           }
          ],
          "histogram2d": [
           {
            "colorbar": {
             "outlinewidth": 0,
             "ticks": ""
            },
            "colorscale": [
             [
              0,
              "#0d0887"
             ],
             [
              0.1111111111111111,
              "#46039f"
             ],
             [
              0.2222222222222222,
              "#7201a8"
             ],
             [
              0.3333333333333333,
              "#9c179e"
             ],
             [
              0.4444444444444444,
              "#bd3786"
             ],
             [
              0.5555555555555556,
              "#d8576b"
             ],
             [
              0.6666666666666666,
              "#ed7953"
             ],
             [
              0.7777777777777778,
              "#fb9f3a"
             ],
             [
              0.8888888888888888,
              "#fdca26"
             ],
             [
              1,
              "#f0f921"
             ]
            ],
            "type": "histogram2d"
           }
          ],
          "histogram2dcontour": [
           {
            "colorbar": {
             "outlinewidth": 0,
             "ticks": ""
            },
            "colorscale": [
             [
              0,
              "#0d0887"
             ],
             [
              0.1111111111111111,
              "#46039f"
             ],
             [
              0.2222222222222222,
              "#7201a8"
             ],
             [
              0.3333333333333333,
              "#9c179e"
             ],
             [
              0.4444444444444444,
              "#bd3786"
             ],
             [
              0.5555555555555556,
              "#d8576b"
             ],
             [
              0.6666666666666666,
              "#ed7953"
             ],
             [
              0.7777777777777778,
              "#fb9f3a"
             ],
             [
              0.8888888888888888,
              "#fdca26"
             ],
             [
              1,
              "#f0f921"
             ]
            ],
            "type": "histogram2dcontour"
           }
          ],
          "mesh3d": [
           {
            "colorbar": {
             "outlinewidth": 0,
             "ticks": ""
            },
            "type": "mesh3d"
           }
          ],
          "parcoords": [
           {
            "line": {
             "colorbar": {
              "outlinewidth": 0,
              "ticks": ""
             }
            },
            "type": "parcoords"
           }
          ],
          "pie": [
           {
            "automargin": true,
            "type": "pie"
           }
          ],
          "scatter": [
           {
            "marker": {
             "colorbar": {
              "outlinewidth": 0,
              "ticks": ""
             }
            },
            "type": "scatter"
           }
          ],
          "scatter3d": [
           {
            "line": {
             "colorbar": {
              "outlinewidth": 0,
              "ticks": ""
             }
            },
            "marker": {
             "colorbar": {
              "outlinewidth": 0,
              "ticks": ""
             }
            },
            "type": "scatter3d"
           }
          ],
          "scattercarpet": [
           {
            "marker": {
             "colorbar": {
              "outlinewidth": 0,
              "ticks": ""
             }
            },
            "type": "scattercarpet"
           }
          ],
          "scattergeo": [
           {
            "marker": {
             "colorbar": {
              "outlinewidth": 0,
              "ticks": ""
             }
            },
            "type": "scattergeo"
           }
          ],
          "scattergl": [
           {
            "marker": {
             "colorbar": {
              "outlinewidth": 0,
              "ticks": ""
             }
            },
            "type": "scattergl"
           }
          ],
          "scattermapbox": [
           {
            "marker": {
             "colorbar": {
              "outlinewidth": 0,
              "ticks": ""
             }
            },
            "type": "scattermapbox"
           }
          ],
          "scatterpolar": [
           {
            "marker": {
             "colorbar": {
              "outlinewidth": 0,
              "ticks": ""
             }
            },
            "type": "scatterpolar"
           }
          ],
          "scatterpolargl": [
           {
            "marker": {
             "colorbar": {
              "outlinewidth": 0,
              "ticks": ""
             }
            },
            "type": "scatterpolargl"
           }
          ],
          "scatterternary": [
           {
            "marker": {
             "colorbar": {
              "outlinewidth": 0,
              "ticks": ""
             }
            },
            "type": "scatterternary"
           }
          ],
          "surface": [
           {
            "colorbar": {
             "outlinewidth": 0,
             "ticks": ""
            },
            "colorscale": [
             [
              0,
              "#0d0887"
             ],
             [
              0.1111111111111111,
              "#46039f"
             ],
             [
              0.2222222222222222,
              "#7201a8"
             ],
             [
              0.3333333333333333,
              "#9c179e"
             ],
             [
              0.4444444444444444,
              "#bd3786"
             ],
             [
              0.5555555555555556,
              "#d8576b"
             ],
             [
              0.6666666666666666,
              "#ed7953"
             ],
             [
              0.7777777777777778,
              "#fb9f3a"
             ],
             [
              0.8888888888888888,
              "#fdca26"
             ],
             [
              1,
              "#f0f921"
             ]
            ],
            "type": "surface"
           }
          ],
          "table": [
           {
            "cells": {
             "fill": {
              "color": "#EBF0F8"
             },
             "line": {
              "color": "white"
             }
            },
            "header": {
             "fill": {
              "color": "#C8D4E3"
             },
             "line": {
              "color": "white"
             }
            },
            "type": "table"
           }
          ]
         },
         "layout": {
          "annotationdefaults": {
           "arrowcolor": "#2a3f5f",
           "arrowhead": 0,
           "arrowwidth": 1
          },
          "autotypenumbers": "strict",
          "coloraxis": {
           "colorbar": {
            "outlinewidth": 0,
            "ticks": ""
           }
          },
          "colorscale": {
           "diverging": [
            [
             0,
             "#8e0152"
            ],
            [
             0.1,
             "#c51b7d"
            ],
            [
             0.2,
             "#de77ae"
            ],
            [
             0.3,
             "#f1b6da"
            ],
            [
             0.4,
             "#fde0ef"
            ],
            [
             0.5,
             "#f7f7f7"
            ],
            [
             0.6,
             "#e6f5d0"
            ],
            [
             0.7,
             "#b8e186"
            ],
            [
             0.8,
             "#7fbc41"
            ],
            [
             0.9,
             "#4d9221"
            ],
            [
             1,
             "#276419"
            ]
           ],
           "sequential": [
            [
             0,
             "#0d0887"
            ],
            [
             0.1111111111111111,
             "#46039f"
            ],
            [
             0.2222222222222222,
             "#7201a8"
            ],
            [
             0.3333333333333333,
             "#9c179e"
            ],
            [
             0.4444444444444444,
             "#bd3786"
            ],
            [
             0.5555555555555556,
             "#d8576b"
            ],
            [
             0.6666666666666666,
             "#ed7953"
            ],
            [
             0.7777777777777778,
             "#fb9f3a"
            ],
            [
             0.8888888888888888,
             "#fdca26"
            ],
            [
             1,
             "#f0f921"
            ]
           ],
           "sequentialminus": [
            [
             0,
             "#0d0887"
            ],
            [
             0.1111111111111111,
             "#46039f"
            ],
            [
             0.2222222222222222,
             "#7201a8"
            ],
            [
             0.3333333333333333,
             "#9c179e"
            ],
            [
             0.4444444444444444,
             "#bd3786"
            ],
            [
             0.5555555555555556,
             "#d8576b"
            ],
            [
             0.6666666666666666,
             "#ed7953"
            ],
            [
             0.7777777777777778,
             "#fb9f3a"
            ],
            [
             0.8888888888888888,
             "#fdca26"
            ],
            [
             1,
             "#f0f921"
            ]
           ]
          },
          "colorway": [
           "#636efa",
           "#EF553B",
           "#00cc96",
           "#ab63fa",
           "#FFA15A",
           "#19d3f3",
           "#FF6692",
           "#B6E880",
           "#FF97FF",
           "#FECB52"
          ],
          "font": {
           "color": "#2a3f5f"
          },
          "geo": {
           "bgcolor": "white",
           "lakecolor": "white",
           "landcolor": "#E5ECF6",
           "showlakes": true,
           "showland": true,
           "subunitcolor": "white"
          },
          "hoverlabel": {
           "align": "left"
          },
          "hovermode": "closest",
          "mapbox": {
           "style": "light"
          },
          "paper_bgcolor": "white",
          "plot_bgcolor": "#E5ECF6",
          "polar": {
           "angularaxis": {
            "gridcolor": "white",
            "linecolor": "white",
            "ticks": ""
           },
           "bgcolor": "#E5ECF6",
           "radialaxis": {
            "gridcolor": "white",
            "linecolor": "white",
            "ticks": ""
           }
          },
          "scene": {
           "xaxis": {
            "backgroundcolor": "#E5ECF6",
            "gridcolor": "white",
            "gridwidth": 2,
            "linecolor": "white",
            "showbackground": true,
            "ticks": "",
            "zerolinecolor": "white"
           },
           "yaxis": {
            "backgroundcolor": "#E5ECF6",
            "gridcolor": "white",
            "gridwidth": 2,
            "linecolor": "white",
            "showbackground": true,
            "ticks": "",
            "zerolinecolor": "white"
           },
           "zaxis": {
            "backgroundcolor": "#E5ECF6",
            "gridcolor": "white",
            "gridwidth": 2,
            "linecolor": "white",
            "showbackground": true,
            "ticks": "",
            "zerolinecolor": "white"
           }
          },
          "shapedefaults": {
           "line": {
            "color": "#2a3f5f"
           }
          },
          "ternary": {
           "aaxis": {
            "gridcolor": "white",
            "linecolor": "white",
            "ticks": ""
           },
           "baxis": {
            "gridcolor": "white",
            "linecolor": "white",
            "ticks": ""
           },
           "bgcolor": "#E5ECF6",
           "caxis": {
            "gridcolor": "white",
            "linecolor": "white",
            "ticks": ""
           }
          },
          "title": {
           "x": 0.05
          },
          "xaxis": {
           "automargin": true,
           "gridcolor": "white",
           "linecolor": "white",
           "ticks": "",
           "title": {
            "standoff": 15
           },
           "zerolinecolor": "white",
           "zerolinewidth": 2
          },
          "yaxis": {
           "automargin": true,
           "gridcolor": "white",
           "linecolor": "white",
           "ticks": "",
           "title": {
            "standoff": 15
           },
           "zerolinecolor": "white",
           "zerolinewidth": 2
          }
         }
        }
       }
      },
      "image/png": "[encoded data removed]",
      "text/html": [
       "<div>                            <div id=\"e2854c92-e7a1-46a2-bb48-c20e2f216c45\" class=\"plotly-graph-div\" style=\"height:525px; width:100%;\"></div>            <script type=\"text/javascript\">                require([\"plotly\"], function(Plotly) {                    window.PLOTLYENV=window.PLOTLYENV || {};                                    if (document.getElementById(\"e2854c92-e7a1-46a2-bb48-c20e2f216c45\")) {                    Plotly.newPlot(                        \"e2854c92-e7a1-46a2-bb48-c20e2f216c45\",                        [{\"dimensions\":[{\"label\":\"Gender\",\"values\":[\"Female\",\"Male\",\"Female\",\"Female\",\"Female\",\"Female\",\"Female\",\"Male\",\"Male\",\"Male\",\"Male\",\"Male\",\"Female\",\"Female\",\"Female\",\"Female\",\"Male\",\"Male\",\"Male\",\"Female\",\"Female\",\"Female\",\"Female\",\"Male\",\"Female\",\"Male\",\"Male\",\"Male\",\"Male\",\"Female\",\"Male\",\"Male\",\"Male\",\"Female\",\"Male\",\"Female\",\"Male\",\"Male\",\"Female\",\"Female\",\"Male\",\"Female\",\"Female\",\"Female\",\"Female\",\"Male\",\"Female\",\"Female\",\"Female\",\"Male\",\"Male\",\"Male\",\"Female\",\"Male\",\"Female\",\"Male\",\"Female\",\"Female\",\"Male\",\"Male\",\"Female\",\"Male\",\"Female\",\"Male\",\"Female\",\"Female\",\"Male\",\"Male\",\"Male\",\"Male\",\"Male\",\"Female\",\"Male\",\"Male\",\"Female\",\"Female\",\"Male\",\"Female\",\"Male\",\"Female\",\"Male\",\"Male\",\"Male\",\"Female\",\"Male\",\"Male\",\"Female\",\"Female\",\"Male\",\"Female\",\"Male\",\"Female\",\"Female\",\"Female\",\"Female\",\"Male\",\"Male\",\"Female\",\"Female\",\"Female\",\"Female\",\"Female\",\"Female\",\"Female\",\"Male\",\"Male\",\"Female\",\"Female\",\"Male\",\"Male\",\"Male\",\"Female\",\"Male\",\"Male\",\"Male\",\"Female\",\"Female\",\"Male\",\"Male\",\"Female\",\"Male\",\"Female\",\"Male\",\"Female\",\"Male\",\"Male\",\"Male\",\"Male\",\"Female\",\"Female\",\"Female\",\"Female\",\"Male\",\"Male\",\"Male\",\"Female\",\"Female\",\"Female\",\"Male\",\"Female\",\"Female\",\"Male\",\"Female\",\"Female\",\"Female\",\"Female\",\"Male\",\"Male\",\"Male\",\"Female\",\"Female\",\"Male\",\"Female\",\"Female\",\"Male\",\"Male\",\"Female\",\"Male\",\"Female\",\"Female\",\"Female\",\"Female\",\"Male\",\"Female\",\"Female\",\"Male\",\"Female\",\"Male\",\"Female\",\"Female\",\"Female\",\"Male\",\"Female\",\"Female\",\"Female\",\"Male\",\"Female\",\"Female\",\"Male\",\"Male\",\"Male\",\"Male\",\"Female\",\"Female\",\"Female\",\"Male\",\"Male\",\"Female\",\"Female\",\"Male\",\"Female\",\"Male\",\"Male\",\"Male\",\"Male\",\"Female\",\"Male\",\"Female\",\"Male\",\"Female\",\"Male\",\"Male\",\"Male\",\"Female\",\"Female\",\"Male\",\"Male\",\"Female\",\"Female\",\"Male\",\"Female\",\"Female\",\"Male\",\"Female\",\"Male\",\"Male\",\"Male\",\"Female\",\"Male\",\"Male\",\"Male\",\"Male\",\"Female\",\"Male\",\"Male\",\"Male\",\"Male\",\"Female\",\"Female\",\"Male\",\"Female\",\"Male\",\"Male\",\"Female\",\"Female\",\"Male\",\"Male\",\"Female\",\"Male\",\"Female\",\"Male\",\"Male\",\"Female\",\"Male\",\"Female\",\"Female\",\"Male\",\"Male\",\"Female\",\"Female\",\"Female\",\"Male\",\"Male\",\"Male\",\"Male\",\"Female\",\"Female\",\"Female\",\"Male\",\"Male\",\"Female\",\"Female\",\"Female\",\"Male\",\"Male\",\"Male\",\"Female\",\"Male\",\"Female\",\"Male\",\"Female\",\"Male\",\"Female\",\"Male\",\"Female\",\"Female\",\"Female\",\"Male\",\"Female\",\"Male\",\"Male\",\"Male\",\"Male\",\"Female\",\"Male\",\"Female\",\"Male\",\"Female\",\"Female\",\"Male\",\"Male\",\"Female\",\"Female\",\"Male\",\"Male\",\"Female\",\"Male\",\"Female\",\"Female\",\"Female\",\"Male\",\"Male\",\"Male\",\"Male\",\"Female\",\"Female\",\"Female\",\"Male\",\"Male\",\"Male\",\"Female\",\"Male\",\"Male\",\"Male\",\"Female\"]},{\"label\":\"Age\",\"values\":[20,17,25,18,19,19,24,27,20,21,20,19,20,20,19,17,17,18,23,23,24,25,20,19,19,17,17,22,23,21,19,24,25,26,23,18,19,20,17,21,18,19,22,20,25,24,17,21,25,23,17,19,24,24,19,28,20,21,19,24,25,26,21,19,18,20,19,21,21,18,19,24,23,25,23,19,20,21,19,18,20,23,19,26,20,18,23,21,21,17,24,19,22,21,20,23,19,23,18,18,24,18,23,18,19,19,22,19,18,19,20,18,22,19,25,17,19,18,17,23,20,25,20,21,22,19,20,19,19,19,22,19,24,19,19,18,22,19,18,19,22,19,19,19,25,19,19,18,26,22,17,20,23,19,19,22,21,18,19,19,20,19,23,20,17,18,21,22,19,25,26,27,18,17,19,19,23,22,23,21,17,20,20,18,24,19,18,19,23,21,21,25,18,17,20,18,24,19,18,18,21,18,17,17,21,20,18,19,23,18,18,20,24,20,18,18,23,18,21,21,22,18,19,19,23,19,19,20,18,21,20,17,22,19,17,20,22,19,19,21,18,26,26,24,18,20,18,19,22,17,21,20,19,17,20,18,22,19,18,20,19,5,21,22,19,20,18,19,22,18,18,20,22,17,18,19,21,24,21,20,19,19,17,17,22,17,18,19,23,20,21,20,20,19,25,25,17,18,25,22,17,18,23,24,19,19,17,20,18,22,19,18,18,23,18]},{\"label\":\"openness\",\"values\":[7,5,5,6,2,6,1,4,6,5,6,4,4,4,7,6,5,5,4,5,5,5,4,6,6,6,4,6,3,4,4,6,5,6,7,4,2,2,3,5,5,2,3,8,4,5,5,5,2,5,6,5,2,4,6,4,3,4,5,6,3,6,7,5,3,4,1,5,3,3,5,6,3,7,3,4,4,5,5,5,6,7,7,5,5,6,2,4,1,6,4,6,5,5,6,3,5,5,5,4,6,2,6,7,5,4,6,5,7,3,6,4,6,5,5,6,4,4,5,6,6,6,4,7,5,7,6,5,4,5,5,6,5,6,6,4,3,5,7,6,5,5,6,5,5,6,3,6,6,4,7,6,5,5,6,3,5,3,5,3,5,5,4,3,2,4,6,7,4,3,1,1,4,5,6,6,7,7,3,4,7,5,6,4,4,7,4,6,6,5,6,7,3,7,3,5,5,6,3,5,6,4,5,5,5,7,6,3,6,8,2,6,6,5,7,6,6,7,7,6,4,5,6,2,5,7,1,3,5,6,2,3,3,6,6,3,4,6,6,4,7,2,3,5,2,5,6,1,3,6,2,4,7,6,6,1,5,6,5,7,6,5,7,6,4,5,5,4,7,6,5,1,5,3,6,6,5,4,1,4,4,7,6,7,7,6,6,6,6,7,5,5,5,4,5,7,3,5,5,6,6,5,4,4,6,4,6,1,3,4,6,2,7,6,5]},{\"label\":\"neuroticism\",\"values\":[9,4,5,2,4,4,2,5,4,4,1,4,5,4,2,6,4,3,2,4,3,7,5,6,1,6,6,8,6,2,4,2,5,2,4,4,4,2,7,4,4,5,6,2,6,6,6,6,5,7,5,5,6,5,6,7,5,4,2,4,2,4,5,5,5,5,4,6,4,3,1,4,6,2,3,6,4,4,5,7,4,5,6,6,3,2,2,3,1,3,4,3,5,3,2,6,4,6,5,5,5,7,6,4,5,7,2,6,2,4,1,6,1,1,5,6,1,3,1,7,2,1,1,4,4,2,1,5,1,5,1,6,1,6,7,5,4,5,2,5,3,5,1,1,3,4,4,3,4,4,3,1,7,6,5,4,7,5,6,5,6,4,3,4,6,4,6,7,7,3,5,5,2,5,1,3,2,3,3,4,1,6,5,4,4,3,3,6,6,5,4,7,6,5,4,5,6,6,5,4,4,6,4,4,5,5,3,5,6,3,7,6,7,8,7,6,6,7,6,7,6,7,6,5,4,8,6,7,6,7,6,7,7,6,7,7,4,8,5,5,5,5,6,4,6,6,5,5,3,6,3,7,3,6,4,4,3,8,1,4,2,5,1,2,4,5,4,3,4,6,8,7,5,2,6,2,6,6,6,6,2,7,5,6,5,7,6,5,5,7,8,6,5,6,8,4,7,5,8,5,3,6,4,7,3,5,3,2,3,4,5,5,5,7,7]},{\"label\":\"conscientiousness\",\"values\":[9,5,7,7,7,7,7,7,5,4,7,4,5,4,4,5,6,5,1,4,7,3,6,5,5,7,3,2,6,3,6,5,1,6,7,6,5,4,3,6,6,4,6,5,6,3,6,7,4,1,6,5,7,5,5,6,3,5,7,5,7,6,5,4,4,5,6,5,6,5,1,4,5,5,3,5,5,2,7,7,7,4,4,5,7,7,6,4,6,5,4,2,5,6,5,6,4,6,8,6,5,1,1,3,4,4,1,2,7,3,1,7,5,1,6,4,5,3,5,5,5,4,2,5,7,1,3,3,6,5,5,7,2,6,7,5,3,2,5,5,6,5,7,3,2,3,5,6,5,1,5,6,6,5,4,3,2,7,4,3,5,3,2,7,6,4,5,2,7,5,5,2,3,3,5,3,4,4,5,1,4,6,4,1,4,3,6,2,6,2,6,5,7,7,6,5,7,6,4,6,7,3,5,6,7,5,6,3,6,6,6,1,3,2,8,3,3,7,6,7,3,5,5,5,6,7,7,3,7,7,5,6,6,3,4,7,5,1,6,7,7,3,6,5,6,2,5,4,2,3,7,3,4,2,8,2,4,6,6,7,3,5,7,2,5,3,4,1,4,3,5,6,4,7,8,7,3,5,7,6,6,4,5,5,7,7,7,5,7,2,5,4,4,6,4,3,1,6,7,5,7,6,5,7,2,6,6,5,6,7,6,8,6,5,3]},{\"label\":\"agreeableness\",\"values\":[5,2,2,4,1,5,4,4,6,6,6,4,5,4,3,7,6,6,5,5,3,7,5,1,5,6,5,6,7,5,4,2,7,3,5,3,5,7,3,1,2,6,1,1,3,3,2,4,4,3,2,4,4,6,3,2,8,6,7,2,2,6,1,2,8,2,7,1,4,7,5,1,5,5,5,4,7,5,7,4,6,6,3,7,8,6,4,5,5,6,5,4,5,8,6,4,5,6,6,5,6,4,2,6,6,6,6,5,3,6,7,7,6,2,6,7,7,7,7,7,8,6,7,7,5,6,7,7,6,4,6,6,5,4,4,4,1,7,5,4,6,6,3,7,7,5,6,7,5,7,3,4,5,4,5,4,6,3,2,3,6,5,6,6,2,4,6,5,3,4,5,7,5,1,5,6,6,4,4,6,5,3,4,5,6,5,6,3,3,7,6,6,4,5,6,7,4,5,4,7,5,6,8,7,6,4,6,5,4,7,6,5,1,5,4,6,6,5,6,4,5,4,4,3,4,4,8,2,5,6,5,3,6,5,4,5,2,3,7,7,5,6,6,7,7,2,5,7,6,6,8,5,7,5,5,5,5,4,6,6,5,5,8,4,4,4,6,7,3,2,5,3,5,4,2,1,5,6,4,3,2,4,5,5,2,4,6,6,4,7,6,6,4,4,6,8,5,6,1,7,1,4,6,3,4,5,4,8,5,5,4,3,2,4,5]},{\"label\":\"extraversion\",\"values\":[5,4,4,7,3,5,6,4,6,4,5,3,2,5,4,6,5,7,6,4,5,6,5,3,6,4,4,4,3,4,3,2,6,3,5,5,6,5,7,5,1,3,6,4,6,8,3,6,7,6,7,3,6,2,6,5,5,4,6,6,3,4,5,7,7,4,5,4,7,5,5,7,6,5,4,4,6,8,4,5,5,6,5,3,6,4,6,6,6,4,6,3,6,6,7,3,5,3,5,6,3,8,2,1,4,8,6,5,6,5,6,7,4,8,5,5,5,4,6,6,1,3,5,7,3,5,5,6,4,6,6,5,4,4,4,5,5,7,5,7,5,6,7,6,7,4,6,5,5,6,6,4,6,4,7,3,5,6,7,2,1,5,6,6,5,4,5,7,5,5,5,6,5,5,6,5,4,5,7,4,4,4,5,6,3,6,3,5,3,5,5,6,3,1,5,4,5,5,2,4,5,5,1,5,4,5,6,5,6,6,4,5,5,7,2,6,3,6,5,5,4,5,4,7,5,3,7,5,4,5,3,7,7,7,5,6,3,6,5,5,5,6,5,8,6,3,7,6,4,5,5,4,5,6,5,5,2,4,3,7,4,5,5,4,5,3,6,5,6,6,4,7,3,6,1,4,4,2,6,6,3,5,5,5,3,5,5,4,3,6,6,7,5,5,6,5,5,4,1,5,8,4,4,6,8,5,6,4,5,6,3,7,7,3,6]},{\"label\":\"Personality (class label)\",\"values\":[\"dependable\",\"serious\",\"serious\",\"serious\",\"responsible\",\"serious\",\"extraverted\",\"serious\",\"serious\",\"serious\",\"serious\",\"responsible\",\"responsible\",\"serious\",\"lively\",\"extraverted\",\"serious\",\"serious\",\"serious\",\"extraverted\",\"serious\",\"dependable\",\"serious\",\"extraverted\",\"extraverted\",\"serious\",\"extraverted\",\"dependable\",\"serious\",\"responsible\",\"serious\",\"lively\",\"extraverted\",\"lively\",\"serious\",\"serious\",\"serious\",\"serious\",\"extraverted\",\"serious\",\"responsible\",\"responsible\",\"serious\",\"extraverted\",\"dependable\",\"serious\",\"responsible\",\"dependable\",\"serious\",\"extraverted\",\"serious\",\"serious\",\"serious\",\"lively\",\"extraverted\",\"serious\",\"extraverted\",\"serious\",\"serious\",\"serious\",\"responsible\",\"serious\",\"dependable\",\"serious\",\"serious\",\"responsible\",\"serious\",\"serious\",\"serious\",\"serious\",\"serious\",\"serious\",\"serious\",\"serious\",\"responsible\",\"extraverted\",\"serious\",\"serious\",\"serious\",\"extraverted\",\"serious\",\"serious\",\"extraverted\",\"extraverted\",\"serious\",\"lively\",\"serious\",\"serious\",\"serious\",\"serious\",\"dependable\",\"responsible\",\"responsible\",\"serious\",\"serious\",\"serious\",\"serious\",\"extraverted\",\"serious\",\"serious\",\"extraverted\",\"extraverted\",\"extraverted\",\"extraverted\",\"dependable\",\"serious\",\"serious\",\"extraverted\",\"dependable\",\"serious\",\"serious\",\"serious\",\"lively\",\"serious\",\"extraverted\",\"extraverted\",\"serious\",\"serious\",\"serious\",\"extraverted\",\"lively\",\"lively\",\"responsible\",\"serious\",\"lively\",\"serious\",\"serious\",\"responsible\",\"responsible\",\"serious\",\"dependable\",\"dependable\",\"serious\",\"serious\",\"dependable\",\"responsible\",\"responsible\",\"extraverted\",\"serious\",\"serious\",\"serious\",\"serious\",\"serious\",\"serious\",\"dependable\",\"extraverted\",\"serious\",\"serious\",\"serious\",\"serious\",\"serious\",\"lively\",\"extraverted\",\"extraverted\",\"responsible\",\"responsible\",\"extraverted\",\"serious\",\"serious\",\"responsible\",\"extraverted\",\"serious\",\"dependable\",\"serious\",\"responsible\",\"lively\",\"extraverted\",\"responsible\",\"extraverted\",\"serious\",\"serious\",\"serious\",\"responsible\",\"responsible\",\"serious\",\"serious\",\"lively\",\"serious\",\"responsible\",\"serious\",\"lively\",\"serious\",\"extraverted\",\"extraverted\",\"extraverted\",\"serious\",\"serious\",\"extraverted\",\"extraverted\",\"serious\",\"serious\",\"extraverted\",\"lively\",\"lively\",\"serious\",\"extraverted\",\"serious\",\"extraverted\",\"responsible\",\"dependable\",\"serious\",\"serious\",\"lively\",\"extraverted\",\"serious\",\"serious\",\"serious\",\"extraverted\",\"responsible\",\"serious\",\"extraverted\",\"responsible\",\"extraverted\",\"extraverted\",\"lively\",\"dependable\",\"extraverted\",\"dependable\",\"serious\",\"dependable\",\"lively\",\"extraverted\",\"dependable\",\"serious\",\"serious\",\"extraverted\",\"serious\",\"extraverted\",\"responsible\",\"serious\",\"extraverted\",\"serious\",\"serious\",\"serious\",\"extraverted\",\"serious\",\"serious\",\"extraverted\",\"serious\",\"serious\",\"serious\",\"serious\",\"extraverted\",\"serious\",\"extraverted\",\"extraverted\",\"serious\",\"serious\",\"responsible\",\"extraverted\",\"serious\",\"responsible\",\"serious\",\"extraverted\",\"serious\",\"lively\",\"responsible\",\"extraverted\",\"lively\",\"serious\",\"responsible\",\"responsible\",\"lively\",\"dependable\",\"serious\",\"serious\",\"serious\",\"serious\",\"responsible\",\"serious\",\"extraverted\",\"serious\",\"lively\",\"serious\",\"responsible\",\"responsible\",\"serious\",\"extraverted\",\"serious\",\"serious\",\"responsible\",\"extraverted\",\"responsible\",\"extraverted\",\"lively\",\"responsible\",\"serious\",\"extraverted\",\"extraverted\",\"extraverted\",\"extraverted\",\"extraverted\",\"lively\",\"serious\",\"extraverted\",\"extraverted\",\"extraverted\",\"extraverted\",\"extraverted\",\"extraverted\",\"serious\",\"serious\",\"serious\",\"serious\",\"serious\",\"serious\",\"serious\",\"serious\",\"serious\",\"serious\",\"extraverted\",\"dependable\",\"serious\",\"extraverted\",\"extraverted\"]}],\"domain\":{\"x\":[0.0,1.0],\"y\":[0.0,1.0]},\"line\":{\"color\":[20,17,25,18,19,19,24,27,20,21,20,19,20,20,19,17,17,18,23,23,24,25,20,19,19,17,17,22,23,21,19,24,25,26,23,18,19,20,17,21,18,19,22,20,25,24,17,21,25,23,17,19,24,24,19,28,20,21,19,24,25,26,21,19,18,20,19,21,21,18,19,24,23,25,23,19,20,21,19,18,20,23,19,26,20,18,23,21,21,17,24,19,22,21,20,23,19,23,18,18,24,18,23,18,19,19,22,19,18,19,20,18,22,19,25,17,19,18,17,23,20,25,20,21,22,19,20,19,19,19,22,19,24,19,19,18,22,19,18,19,22,19,19,19,25,19,19,18,26,22,17,20,23,19,19,22,21,18,19,19,20,19,23,20,17,18,21,22,19,25,26,27,18,17,19,19,23,22,23,21,17,20,20,18,24,19,18,19,23,21,21,25,18,17,20,18,24,19,18,18,21,18,17,17,21,20,18,19,23,18,18,20,24,20,18,18,23,18,21,21,22,18,19,19,23,19,19,20,18,21,20,17,22,19,17,20,22,19,19,21,18,26,26,24,18,20,18,19,22,17,21,20,19,17,20,18,22,19,18,20,19,5,21,22,19,20,18,19,22,18,18,20,22,17,18,19,21,24,21,20,19,19,17,17,22,17,18,19,23,20,21,20,20,19,25,25,17,18,25,22,17,18,23,24,19,19,17,20,18,22,19,18,18,23,18],\"coloraxis\":\"coloraxis\"},\"name\":\"\",\"type\":\"parcats\"}],                        {\"template\":{\"data\":{\"bar\":[{\"error_x\":{\"color\":\"#2a3f5f\"},\"error_y\":{\"color\":\"#2a3f5f\"},\"marker\":{\"line\":{\"color\":\"#E5ECF6\",\"width\":0.5},\"pattern\":{\"fillmode\":\"overlay\",\"size\":10,\"solidity\":0.2}},\"type\":\"bar\"}],\"barpolar\":[{\"marker\":{\"line\":{\"color\":\"#E5ECF6\",\"width\":0.5},\"pattern\":{\"fillmode\":\"overlay\",\"size\":10,\"solidity\":0.2}},\"type\":\"barpolar\"}],\"carpet\":[{\"aaxis\":{\"endlinecolor\":\"#2a3f5f\",\"gridcolor\":\"white\",\"linecolor\":\"white\",\"minorgridcolor\":\"white\",\"startlinecolor\":\"#2a3f5f\"},\"baxis\":{\"endlinecolor\":\"#2a3f5f\",\"gridcolor\":\"white\",\"linecolor\":\"white\",\"minorgridcolor\":\"white\",\"startlinecolor\":\"#2a3f5f\"},\"type\":\"carpet\"}],\"choropleth\":[{\"colorbar\":{\"outlinewidth\":0,\"ticks\":\"\"},\"type\":\"choropleth\"}],\"contour\":[{\"colorbar\":{\"outlinewidth\":0,\"ticks\":\"\"},\"colorscale\":[[0.0,\"#0d0887\"],[0.1111111111111111,\"#46039f\"],[0.2222222222222222,\"#7201a8\"],[0.3333333333333333,\"#9c179e\"],[0.4444444444444444,\"#bd3786\"],[0.5555555555555556,\"#d8576b\"],[0.6666666666666666,\"#ed7953\"],[0.7777777777777778,\"#fb9f3a\"],[0.8888888888888888,\"#fdca26\"],[1.0,\"#f0f921\"]],\"type\":\"contour\"}],\"contourcarpet\":[{\"colorbar\":{\"outlinewidth\":0,\"ticks\":\"\"},\"type\":\"contourcarpet\"}],\"heatmap\":[{\"colorbar\":{\"outlinewidth\":0,\"ticks\":\"\"},\"colorscale\":[[0.0,\"#0d0887\"],[0.1111111111111111,\"#46039f\"],[0.2222222222222222,\"#7201a8\"],[0.3333333333333333,\"#9c179e\"],[0.4444444444444444,\"#bd3786\"],[0.5555555555555556,\"#d8576b\"],[0.6666666666666666,\"#ed7953\"],[0.7777777777777778,\"#fb9f3a\"],[0.8888888888888888,\"#fdca26\"],[1.0,\"#f0f921\"]],\"type\":\"heatmap\"}],\"heatmapgl\":[{\"colorbar\":{\"outlinewidth\":0,\"ticks\":\"\"},\"colorscale\":[[0.0,\"#0d0887\"],[0.1111111111111111,\"#46039f\"],[0.2222222222222222,\"#7201a8\"],[0.3333333333333333,\"#9c179e\"],[0.4444444444444444,\"#bd3786\"],[0.5555555555555556,\"#d8576b\"],[0.6666666666666666,\"#ed7953\"],[0.7777777777777778,\"#fb9f3a\"],[0.8888888888888888,\"#fdca26\"],[1.0,\"#f0f921\"]],\"type\":\"heatmapgl\"}],\"histogram\":[{\"marker\":{\"pattern\":{\"fillmode\":\"overlay\",\"size\":10,\"solidity\":0.2}},\"type\":\"histogram\"}],\"histogram2d\":[{\"colorbar\":{\"outlinewidth\":0,\"ticks\":\"\"},\"colorscale\":[[0.0,\"#0d0887\"],[0.1111111111111111,\"#46039f\"],[0.2222222222222222,\"#7201a8\"],[0.3333333333333333,\"#9c179e\"],[0.4444444444444444,\"#bd3786\"],[0.5555555555555556,\"#d8576b\"],[0.6666666666666666,\"#ed7953\"],[0.7777777777777778,\"#fb9f3a\"],[0.8888888888888888,\"#fdca26\"],[1.0,\"#f0f921\"]],\"type\":\"histogram2d\"}],\"histogram2dcontour\":[{\"colorbar\":{\"outlinewidth\":0,\"ticks\":\"\"},\"colorscale\":[[0.0,\"#0d0887\"],[0.1111111111111111,\"#46039f\"],[0.2222222222222222,\"#7201a8\"],[0.3333333333333333,\"#9c179e\"],[0.4444444444444444,\"#bd3786\"],[0.5555555555555556,\"#d8576b\"],[0.6666666666666666,\"#ed7953\"],[0.7777777777777778,\"#fb9f3a\"],[0.8888888888888888,\"#fdca26\"],[1.0,\"#f0f921\"]],\"type\":\"histogram2dcontour\"}],\"mesh3d\":[{\"colorbar\":{\"outlinewidth\":0,\"ticks\":\"\"},\"type\":\"mesh3d\"}],\"parcoords\":[{\"line\":{\"colorbar\":{\"outlinewidth\":0,\"ticks\":\"\"}},\"type\":\"parcoords\"}],\"pie\":[{\"automargin\":true,\"type\":\"pie\"}],\"scatter\":[{\"marker\":{\"colorbar\":{\"outlinewidth\":0,\"ticks\":\"\"}},\"type\":\"scatter\"}],\"scatter3d\":[{\"line\":{\"colorbar\":{\"outlinewidth\":0,\"ticks\":\"\"}},\"marker\":{\"colorbar\":{\"outlinewidth\":0,\"ticks\":\"\"}},\"type\":\"scatter3d\"}],\"scattercarpet\":[{\"marker\":{\"colorbar\":{\"outlinewidth\":0,\"ticks\":\"\"}},\"type\":\"scattercarpet\"}],\"scattergeo\":[{\"marker\":{\"colorbar\":{\"outlinewidth\":0,\"ticks\":\"\"}},\"type\":\"scattergeo\"}],\"scattergl\":[{\"marker\":{\"colorbar\":{\"outlinewidth\":0,\"ticks\":\"\"}},\"type\":\"scattergl\"}],\"scattermapbox\":[{\"marker\":{\"colorbar\":{\"outlinewidth\":0,\"ticks\":\"\"}},\"type\":\"scattermapbox\"}],\"scatterpolar\":[{\"marker\":{\"colorbar\":{\"outlinewidth\":0,\"ticks\":\"\"}},\"type\":\"scatterpolar\"}],\"scatterpolargl\":[{\"marker\":{\"colorbar\":{\"outlinewidth\":0,\"ticks\":\"\"}},\"type\":\"scatterpolargl\"}],\"scatterternary\":[{\"marker\":{\"colorbar\":{\"outlinewidth\":0,\"ticks\":\"\"}},\"type\":\"scatterternary\"}],\"surface\":[{\"colorbar\":{\"outlinewidth\":0,\"ticks\":\"\"},\"colorscale\":[[0.0,\"#0d0887\"],[0.1111111111111111,\"#46039f\"],[0.2222222222222222,\"#7201a8\"],[0.3333333333333333,\"#9c179e\"],[0.4444444444444444,\"#bd3786\"],[0.5555555555555556,\"#d8576b\"],[0.6666666666666666,\"#ed7953\"],[0.7777777777777778,\"#fb9f3a\"],[0.8888888888888888,\"#fdca26\"],[1.0,\"#f0f921\"]],\"type\":\"surface\"}],\"table\":[{\"cells\":{\"fill\":{\"color\":\"#EBF0F8\"},\"line\":{\"color\":\"white\"}},\"header\":{\"fill\":{\"color\":\"#C8D4E3\"},\"line\":{\"color\":\"white\"}},\"type\":\"table\"}]},\"layout\":{\"annotationdefaults\":{\"arrowcolor\":\"#2a3f5f\",\"arrowhead\":0,\"arrowwidth\":1},\"autotypenumbers\":\"strict\",\"coloraxis\":{\"colorbar\":{\"outlinewidth\":0,\"ticks\":\"\"}},\"colorscale\":{\"diverging\":[[0,\"#8e0152\"],[0.1,\"#c51b7d\"],[0.2,\"#de77ae\"],[0.3,\"#f1b6da\"],[0.4,\"#fde0ef\"],[0.5,\"#f7f7f7\"],[0.6,\"#e6f5d0\"],[0.7,\"#b8e186\"],[0.8,\"#7fbc41\"],[0.9,\"#4d9221\"],[1,\"#276419\"]],\"sequential\":[[0.0,\"#0d0887\"],[0.1111111111111111,\"#46039f\"],[0.2222222222222222,\"#7201a8\"],[0.3333333333333333,\"#9c179e\"],[0.4444444444444444,\"#bd3786\"],[0.5555555555555556,\"#d8576b\"],[0.6666666666666666,\"#ed7953\"],[0.7777777777777778,\"#fb9f3a\"],[0.8888888888888888,\"#fdca26\"],[1.0,\"#f0f921\"]],\"sequentialminus\":[[0.0,\"#0d0887\"],[0.1111111111111111,\"#46039f\"],[0.2222222222222222,\"#7201a8\"],[0.3333333333333333,\"#9c179e\"],[0.4444444444444444,\"#bd3786\"],[0.5555555555555556,\"#d8576b\"],[0.6666666666666666,\"#ed7953\"],[0.7777777777777778,\"#fb9f3a\"],[0.8888888888888888,\"#fdca26\"],[1.0,\"#f0f921\"]]},\"colorway\":[\"#636efa\",\"#EF553B\",\"#00cc96\",\"#ab63fa\",\"#FFA15A\",\"#19d3f3\",\"#FF6692\",\"#B6E880\",\"#FF97FF\",\"#FECB52\"],\"font\":{\"color\":\"#2a3f5f\"},\"geo\":{\"bgcolor\":\"white\",\"lakecolor\":\"white\",\"landcolor\":\"#E5ECF6\",\"showlakes\":true,\"showland\":true,\"subunitcolor\":\"white\"},\"hoverlabel\":{\"align\":\"left\"},\"hovermode\":\"closest\",\"mapbox\":{\"style\":\"light\"},\"paper_bgcolor\":\"white\",\"plot_bgcolor\":\"#E5ECF6\",\"polar\":{\"angularaxis\":{\"gridcolor\":\"white\",\"linecolor\":\"white\",\"ticks\":\"\"},\"bgcolor\":\"#E5ECF6\",\"radialaxis\":{\"gridcolor\":\"white\",\"linecolor\":\"white\",\"ticks\":\"\"}},\"scene\":{\"xaxis\":{\"backgroundcolor\":\"#E5ECF6\",\"gridcolor\":\"white\",\"gridwidth\":2,\"linecolor\":\"white\",\"showbackground\":true,\"ticks\":\"\",\"zerolinecolor\":\"white\"},\"yaxis\":{\"backgroundcolor\":\"#E5ECF6\",\"gridcolor\":\"white\",\"gridwidth\":2,\"linecolor\":\"white\",\"showbackground\":true,\"ticks\":\"\",\"zerolinecolor\":\"white\"},\"zaxis\":{\"backgroundcolor\":\"#E5ECF6\",\"gridcolor\":\"white\",\"gridwidth\":2,\"linecolor\":\"white\",\"showbackground\":true,\"ticks\":\"\",\"zerolinecolor\":\"white\"}},\"shapedefaults\":{\"line\":{\"color\":\"#2a3f5f\"}},\"ternary\":{\"aaxis\":{\"gridcolor\":\"white\",\"linecolor\":\"white\",\"ticks\":\"\"},\"baxis\":{\"gridcolor\":\"white\",\"linecolor\":\"white\",\"ticks\":\"\"},\"bgcolor\":\"#E5ECF6\",\"caxis\":{\"gridcolor\":\"white\",\"linecolor\":\"white\",\"ticks\":\"\"}},\"title\":{\"x\":0.05},\"xaxis\":{\"automargin\":true,\"gridcolor\":\"white\",\"linecolor\":\"white\",\"ticks\":\"\",\"title\":{\"standoff\":15},\"zerolinecolor\":\"white\",\"zerolinewidth\":2},\"yaxis\":{\"automargin\":true,\"gridcolor\":\"white\",\"linecolor\":\"white\",\"ticks\":\"\",\"title\":{\"standoff\":15},\"zerolinecolor\":\"white\",\"zerolinewidth\":2}}},\"coloraxis\":{\"colorbar\":{\"title\":{\"text\":\"Age\"}},\"colorscale\":[[0.0,\"#000004\"],[0.1111111111111111,\"#1b0c41\"],[0.2222222222222222,\"#4a0c6b\"],[0.3333333333333333,\"#781c6d\"],[0.4444444444444444,\"#a52c60\"],[0.5555555555555556,\"#cf4446\"],[0.6666666666666666,\"#ed6925\"],[0.7777777777777778,\"#fb9b06\"],[0.8888888888888888,\"#f7d13d\"],[1.0,\"#fcffa4\"]]},\"legend\":{\"tracegroupgap\":0},\"margin\":{\"t\":60}},                        {\"responsive\": true}                    ).then(function(){\n",
       "                            \n",
       "var gd = document.getElementById('e2854c92-e7a1-46a2-bb48-c20e2f216c45');\n",
       "var x = new MutationObserver(function (mutations, observer) {{\n",
       "        var display = window.getComputedStyle(gd).display;\n",
       "        if (!display || display === 'none') {{\n",
       "            console.log([gd, 'removed!']);\n",
       "            Plotly.purge(gd);\n",
       "            observer.disconnect();\n",
       "        }}\n",
       "}});\n",
       "\n",
       "// Listen for the removal of the full notebook cells\n",
       "var notebookContainer = gd.closest('#notebook-container');\n",
       "if (notebookContainer) {{\n",
       "    x.observe(notebookContainer, {childList: true});\n",
       "}}\n",
       "\n",
       "// Listen for the clearing of the current output cell\n",
       "var outputEl = gd.closest('.output');\n",
       "if (outputEl) {{\n",
       "    x.observe(outputEl, {childList: true});\n",
       "}}\n",
       "\n",
       "                        })                };                });            </script>        </div>"
      ]
     },
     "metadata": {},
     "output_type": "display_data"
    }
   ],
   "source": [
    "import plotly.express as px\n",
    "fig = px.parallel_categories(df, color=\"Age\", color_continuous_scale=px.colors.sequential.Inferno)\n",
    "fig.show()"
   ]
  },
  {
   "cell_type": "markdown",
   "id": "01b17a6d-b8e5-47ec-a731-fa5d6ccde2ea",
   "metadata": {},
   "source": [
    "La última figura que se muestra, clasifica los participantes entre hombre y mujeres, dándoles el color según la puntuación que tengan en la característica de símpatía. Además, se los segmenta también por la edad. Con este gráfico, se puede deducir el porcentaje de simpatía que tienen los participantes y analizar si tienen la mayoría de datos con la edad y el género. "
   ]
  },
  {
   "cell_type": "code",
   "execution_count": 24,
   "id": "6a976c12-11ac-4400-933e-a1568321993f",
   "metadata": {},
   "outputs": [
    {
     "data": {
      "application/vnd.plotly.v1+json": {
       "config": {
        "plotlyServerURL": "https://plot.ly"
       },
       "data": [
        {
         "branchvalues": "total",
         "customdata": [
          [
           5,
           5
          ],
          [
           "(?)",
           4.565789473684211
          ],
          [
           "(?)",
           4.6103896103896105
          ],
          [
           "(?)",
           5.20952380952381
          ],
          [
           "(?)",
           4.853146853146853
          ],
          [
           "(?)",
           4.338541666666667
          ],
          [
           "(?)",
           4.840236686390533
          ],
          [
           "(?)",
           4.352941176470588
          ],
          [
           "(?)",
           5.763636363636364
          ],
          [
           "(?)",
           5.413793103448276
          ],
          [
           "(?)",
           5.150943396226415
          ],
          [
           "(?)",
           4.90625
          ],
          [
           "(?)",
           4.509090909090909
          ],
          [
           "(?)",
           4.649122807017544
          ],
          [
           "(?)",
           5
          ],
          [
           "(?)",
           3.875
          ],
          [
           "(?)",
           3.7962962962962963
          ],
          [
           "(?)",
           4.777777777777778
          ],
          [
           "(?)",
           5.931034482758621
          ],
          [
           "(?)",
           5.066666666666666
          ],
          [
           "(?)",
           5.571428571428571
          ],
          [
           "(?)",
           4.6
          ],
          [
           5,
           2
          ],
          [
           "(?)",
           4.709933774834437
          ],
          [
           "(?)",
           4.926261319534282
          ]
         ],
         "domain": {
          "x": [
           0,
           1
          ],
          "y": [
           0,
           1
          ]
         },
         "hovertemplate": "labels=%{label}<br>openness=%{value}<br>parent=%{parent}<br>id=%{id}<br>extraversion=%{customdata[0]}<br>agreeableness=%{color}<extra></extra>",
         "ids": [
          "Female/5",
          "Female/17",
          "Male/17",
          "Female/18",
          "Male/18",
          "Female/19",
          "Male/19",
          "Female/20",
          "Male/20",
          "Female/21",
          "Male/21",
          "Female/22",
          "Male/22",
          "Female/23",
          "Male/23",
          "Female/24",
          "Male/24",
          "Female/25",
          "Male/25",
          "Female/26",
          "Male/26",
          "Male/27",
          "Male/28",
          "Female",
          "Male"
         ],
         "labels": [
          "5",
          "17",
          "17",
          "18",
          "18",
          "19",
          "19",
          "20",
          "20",
          "21",
          "21",
          "22",
          "22",
          "23",
          "23",
          "24",
          "24",
          "25",
          "25",
          "26",
          "26",
          "27",
          "28",
          "Female",
          "Male"
         ],
         "marker": {
          "coloraxis": "coloraxis",
          "colors": [
           5,
           4.565789473684211,
           4.6103896103896105,
           5.20952380952381,
           4.853146853146853,
           4.338541666666667,
           4.840236686390533,
           4.352941176470588,
           5.763636363636364,
           5.413793103448276,
           5.150943396226415,
           4.90625,
           4.509090909090909,
           4.649122807017544,
           5,
           3.875,
           3.7962962962962963,
           4.777777777777778,
           5.931034482758621,
           5.066666666666666,
           5.571428571428571,
           4.6,
           2,
           4.709933774834437,
           4.926261319534282
          ]
         },
         "name": "",
         "parents": [
          "Female",
          "Female",
          "Male",
          "Female",
          "Male",
          "Female",
          "Male",
          "Female",
          "Male",
          "Female",
          "Male",
          "Female",
          "Male",
          "Female",
          "Male",
          "Female",
          "Male",
          "Female",
          "Male",
          "Female",
          "Male",
          "Male",
          "Male",
          "",
          ""
         ],
         "type": "sunburst",
         "values": [
          5,
          76,
          77,
          105,
          143,
          192,
          169,
          85,
          110,
          87,
          53,
          64,
          55,
          57,
          60,
          24,
          54,
          45,
          29,
          15,
          14,
          5,
          4,
          755,
          773
         ]
        }
       ],
       "layout": {
        "autosize": true,
        "coloraxis": {
         "colorbar": {
          "title": {
           "text": "agreeableness"
          }
         },
         "colorscale": [
          [
           0,
           "#0d0887"
          ],
          [
           0.1111111111111111,
           "#46039f"
          ],
          [
           0.2222222222222222,
           "#7201a8"
          ],
          [
           0.3333333333333333,
           "#9c179e"
          ],
          [
           0.4444444444444444,
           "#bd3786"
          ],
          [
           0.5555555555555556,
           "#d8576b"
          ],
          [
           0.6666666666666666,
           "#ed7953"
          ],
          [
           0.7777777777777778,
           "#fb9f3a"
          ],
          [
           0.8888888888888888,
           "#fdca26"
          ],
          [
           1,
           "#f0f921"
          ]
         ]
        },
        "legend": {
         "tracegroupgap": 0
        },
        "margin": {
         "t": 60
        },
        "template": {
         "data": {
          "bar": [
           {
            "error_x": {
             "color": "#2a3f5f"
            },
            "error_y": {
             "color": "#2a3f5f"
            },
            "marker": {
             "line": {
              "color": "#E5ECF6",
              "width": 0.5
             },
             "pattern": {
              "fillmode": "overlay",
              "size": 10,
              "solidity": 0.2
             }
            },
            "type": "bar"
           }
          ],
          "barpolar": [
           {
            "marker": {
             "line": {
              "color": "#E5ECF6",
              "width": 0.5
             },
             "pattern": {
              "fillmode": "overlay",
              "size": 10,
              "solidity": 0.2
             }
            },
            "type": "barpolar"
           }
          ],
          "carpet": [
           {
            "aaxis": {
             "endlinecolor": "#2a3f5f",
             "gridcolor": "white",
             "linecolor": "white",
             "minorgridcolor": "white",
             "startlinecolor": "#2a3f5f"
            },
            "baxis": {
             "endlinecolor": "#2a3f5f",
             "gridcolor": "white",
             "linecolor": "white",
             "minorgridcolor": "white",
             "startlinecolor": "#2a3f5f"
            },
            "type": "carpet"
           }
          ],
          "choropleth": [
           {
            "colorbar": {
             "outlinewidth": 0,
             "ticks": ""
            },
            "type": "choropleth"
           }
          ],
          "contour": [
           {
            "colorbar": {
             "outlinewidth": 0,
             "ticks": ""
            },
            "colorscale": [
             [
              0,
              "#0d0887"
             ],
             [
              0.1111111111111111,
              "#46039f"
             ],
             [
              0.2222222222222222,
              "#7201a8"
             ],
             [
              0.3333333333333333,
              "#9c179e"
             ],
             [
              0.4444444444444444,
              "#bd3786"
             ],
             [
              0.5555555555555556,
              "#d8576b"
             ],
             [
              0.6666666666666666,
              "#ed7953"
             ],
             [
              0.7777777777777778,
              "#fb9f3a"
             ],
             [
              0.8888888888888888,
              "#fdca26"
             ],
             [
              1,
              "#f0f921"
             ]
            ],
            "type": "contour"
           }
          ],
          "contourcarpet": [
           {
            "colorbar": {
             "outlinewidth": 0,
             "ticks": ""
            },
            "type": "contourcarpet"
           }
          ],
          "heatmap": [
           {
            "colorbar": {
             "outlinewidth": 0,
             "ticks": ""
            },
            "colorscale": [
             [
              0,
              "#0d0887"
             ],
             [
              0.1111111111111111,
              "#46039f"
             ],
             [
              0.2222222222222222,
              "#7201a8"
             ],
             [
              0.3333333333333333,
              "#9c179e"
             ],
             [
              0.4444444444444444,
              "#bd3786"
             ],
             [
              0.5555555555555556,
              "#d8576b"
             ],
             [
              0.6666666666666666,
              "#ed7953"
             ],
             [
              0.7777777777777778,
              "#fb9f3a"
             ],
             [
              0.8888888888888888,
              "#fdca26"
             ],
             [
              1,
              "#f0f921"
             ]
            ],
            "type": "heatmap"
           }
          ],
          "heatmapgl": [
           {
            "colorbar": {
             "outlinewidth": 0,
             "ticks": ""
            },
            "colorscale": [
             [
              0,
              "#0d0887"
             ],
             [
              0.1111111111111111,
              "#46039f"
             ],
             [
              0.2222222222222222,
              "#7201a8"
             ],
             [
              0.3333333333333333,
              "#9c179e"
             ],
             [
              0.4444444444444444,
              "#bd3786"
             ],
             [
              0.5555555555555556,
              "#d8576b"
             ],
             [
              0.6666666666666666,
              "#ed7953"
             ],
             [
              0.7777777777777778,
              "#fb9f3a"
             ],
             [
              0.8888888888888888,
              "#fdca26"
             ],
             [
              1,
              "#f0f921"
             ]
            ],
            "type": "heatmapgl"
           }
          ],
          "histogram": [
           {
            "marker": {
             "pattern": {
              "fillmode": "overlay",
              "size": 10,
              "solidity": 0.2
             }
            },
            "type": "histogram"
           }
          ],
          "histogram2d": [
           {
            "colorbar": {
             "outlinewidth": 0,
             "ticks": ""
            },
            "colorscale": [
             [
              0,
              "#0d0887"
             ],
             [
              0.1111111111111111,
              "#46039f"
             ],
             [
              0.2222222222222222,
              "#7201a8"
             ],
             [
              0.3333333333333333,
              "#9c179e"
             ],
             [
              0.4444444444444444,
              "#bd3786"
             ],
             [
              0.5555555555555556,
              "#d8576b"
             ],
             [
              0.6666666666666666,
              "#ed7953"
             ],
             [
              0.7777777777777778,
              "#fb9f3a"
             ],
             [
              0.8888888888888888,
              "#fdca26"
             ],
             [
              1,
              "#f0f921"
             ]
            ],
            "type": "histogram2d"
           }
          ],
          "histogram2dcontour": [
           {
            "colorbar": {
             "outlinewidth": 0,
             "ticks": ""
            },
            "colorscale": [
             [
              0,
              "#0d0887"
             ],
             [
              0.1111111111111111,
              "#46039f"
             ],
             [
              0.2222222222222222,
              "#7201a8"
             ],
             [
              0.3333333333333333,
              "#9c179e"
             ],
             [
              0.4444444444444444,
              "#bd3786"
             ],
             [
              0.5555555555555556,
              "#d8576b"
             ],
             [
              0.6666666666666666,
              "#ed7953"
             ],
             [
              0.7777777777777778,
              "#fb9f3a"
             ],
             [
              0.8888888888888888,
              "#fdca26"
             ],
             [
              1,
              "#f0f921"
             ]
            ],
            "type": "histogram2dcontour"
           }
          ],
          "mesh3d": [
           {
            "colorbar": {
             "outlinewidth": 0,
             "ticks": ""
            },
            "type": "mesh3d"
           }
          ],
          "parcoords": [
           {
            "line": {
             "colorbar": {
              "outlinewidth": 0,
              "ticks": ""
             }
            },
            "type": "parcoords"
           }
          ],
          "pie": [
           {
            "automargin": true,
            "type": "pie"
           }
          ],
          "scatter": [
           {
            "marker": {
             "colorbar": {
              "outlinewidth": 0,
              "ticks": ""
             }
            },
            "type": "scatter"
           }
          ],
          "scatter3d": [
           {
            "line": {
             "colorbar": {
              "outlinewidth": 0,
              "ticks": ""
             }
            },
            "marker": {
             "colorbar": {
              "outlinewidth": 0,
              "ticks": ""
             }
            },
            "type": "scatter3d"
           }
          ],
          "scattercarpet": [
           {
            "marker": {
             "colorbar": {
              "outlinewidth": 0,
              "ticks": ""
             }
            },
            "type": "scattercarpet"
           }
          ],
          "scattergeo": [
           {
            "marker": {
             "colorbar": {
              "outlinewidth": 0,
              "ticks": ""
             }
            },
            "type": "scattergeo"
           }
          ],
          "scattergl": [
           {
            "marker": {
             "colorbar": {
              "outlinewidth": 0,
              "ticks": ""
             }
            },
            "type": "scattergl"
           }
          ],
          "scattermapbox": [
           {
            "marker": {
             "colorbar": {
              "outlinewidth": 0,
              "ticks": ""
             }
            },
            "type": "scattermapbox"
           }
          ],
          "scatterpolar": [
           {
            "marker": {
             "colorbar": {
              "outlinewidth": 0,
              "ticks": ""
             }
            },
            "type": "scatterpolar"
           }
          ],
          "scatterpolargl": [
           {
            "marker": {
             "colorbar": {
              "outlinewidth": 0,
              "ticks": ""
             }
            },
            "type": "scatterpolargl"
           }
          ],
          "scatterternary": [
           {
            "marker": {
             "colorbar": {
              "outlinewidth": 0,
              "ticks": ""
             }
            },
            "type": "scatterternary"
           }
          ],
          "surface": [
           {
            "colorbar": {
             "outlinewidth": 0,
             "ticks": ""
            },
            "colorscale": [
             [
              0,
              "#0d0887"
             ],
             [
              0.1111111111111111,
              "#46039f"
             ],
             [
              0.2222222222222222,
              "#7201a8"
             ],
             [
              0.3333333333333333,
              "#9c179e"
             ],
             [
              0.4444444444444444,
              "#bd3786"
             ],
             [
              0.5555555555555556,
              "#d8576b"
             ],
             [
              0.6666666666666666,
              "#ed7953"
             ],
             [
              0.7777777777777778,
              "#fb9f3a"
             ],
             [
              0.8888888888888888,
              "#fdca26"
             ],
             [
              1,
              "#f0f921"
             ]
            ],
            "type": "surface"
           }
          ],
          "table": [
           {
            "cells": {
             "fill": {
              "color": "#EBF0F8"
             },
             "line": {
              "color": "white"
             }
            },
            "header": {
             "fill": {
              "color": "#C8D4E3"
             },
             "line": {
              "color": "white"
             }
            },
            "type": "table"
           }
          ]
         },
         "layout": {
          "annotationdefaults": {
           "arrowcolor": "#2a3f5f",
           "arrowhead": 0,
           "arrowwidth": 1
          },
          "autotypenumbers": "strict",
          "coloraxis": {
           "colorbar": {
            "outlinewidth": 0,
            "ticks": ""
           }
          },
          "colorscale": {
           "diverging": [
            [
             0,
             "#8e0152"
            ],
            [
             0.1,
             "#c51b7d"
            ],
            [
             0.2,
             "#de77ae"
            ],
            [
             0.3,
             "#f1b6da"
            ],
            [
             0.4,
             "#fde0ef"
            ],
            [
             0.5,
             "#f7f7f7"
            ],
            [
             0.6,
             "#e6f5d0"
            ],
            [
             0.7,
             "#b8e186"
            ],
            [
             0.8,
             "#7fbc41"
            ],
            [
             0.9,
             "#4d9221"
            ],
            [
             1,
             "#276419"
            ]
           ],
           "sequential": [
            [
             0,
             "#0d0887"
            ],
            [
             0.1111111111111111,
             "#46039f"
            ],
            [
             0.2222222222222222,
             "#7201a8"
            ],
            [
             0.3333333333333333,
             "#9c179e"
            ],
            [
             0.4444444444444444,
             "#bd3786"
            ],
            [
             0.5555555555555556,
             "#d8576b"
            ],
            [
             0.6666666666666666,
             "#ed7953"
            ],
            [
             0.7777777777777778,
             "#fb9f3a"
            ],
            [
             0.8888888888888888,
             "#fdca26"
            ],
            [
             1,
             "#f0f921"
            ]
           ],
           "sequentialminus": [
            [
             0,
             "#0d0887"
            ],
            [
             0.1111111111111111,
             "#46039f"
            ],
            [
             0.2222222222222222,
             "#7201a8"
            ],
            [
             0.3333333333333333,
             "#9c179e"
            ],
            [
             0.4444444444444444,
             "#bd3786"
            ],
            [
             0.5555555555555556,
             "#d8576b"
            ],
            [
             0.6666666666666666,
             "#ed7953"
            ],
            [
             0.7777777777777778,
             "#fb9f3a"
            ],
            [
             0.8888888888888888,
             "#fdca26"
            ],
            [
             1,
             "#f0f921"
            ]
           ]
          },
          "colorway": [
           "#636efa",
           "#EF553B",
           "#00cc96",
           "#ab63fa",
           "#FFA15A",
           "#19d3f3",
           "#FF6692",
           "#B6E880",
           "#FF97FF",
           "#FECB52"
          ],
          "font": {
           "color": "#2a3f5f"
          },
          "geo": {
           "bgcolor": "white",
           "lakecolor": "white",
           "landcolor": "#E5ECF6",
           "showlakes": true,
           "showland": true,
           "subunitcolor": "white"
          },
          "hoverlabel": {
           "align": "left"
          },
          "hovermode": "closest",
          "mapbox": {
           "style": "light"
          },
          "paper_bgcolor": "white",
          "plot_bgcolor": "#E5ECF6",
          "polar": {
           "angularaxis": {
            "gridcolor": "white",
            "linecolor": "white",
            "ticks": ""
           },
           "bgcolor": "#E5ECF6",
           "radialaxis": {
            "gridcolor": "white",
            "linecolor": "white",
            "ticks": ""
           }
          },
          "scene": {
           "xaxis": {
            "backgroundcolor": "#E5ECF6",
            "gridcolor": "white",
            "gridwidth": 2,
            "linecolor": "white",
            "showbackground": true,
            "ticks": "",
            "zerolinecolor": "white"
           },
           "yaxis": {
            "backgroundcolor": "#E5ECF6",
            "gridcolor": "white",
            "gridwidth": 2,
            "linecolor": "white",
            "showbackground": true,
            "ticks": "",
            "zerolinecolor": "white"
           },
           "zaxis": {
            "backgroundcolor": "#E5ECF6",
            "gridcolor": "white",
            "gridwidth": 2,
            "linecolor": "white",
            "showbackground": true,
            "ticks": "",
            "zerolinecolor": "white"
           }
          },
          "shapedefaults": {
           "line": {
            "color": "#2a3f5f"
           }
          },
          "ternary": {
           "aaxis": {
            "gridcolor": "white",
            "linecolor": "white",
            "ticks": ""
           },
           "baxis": {
            "gridcolor": "white",
            "linecolor": "white",
            "ticks": ""
           },
           "bgcolor": "#E5ECF6",
           "caxis": {
            "gridcolor": "white",
            "linecolor": "white",
            "ticks": ""
           }
          },
          "title": {
           "x": 0.05
          },
          "xaxis": {
           "automargin": true,
           "gridcolor": "white",
           "linecolor": "white",
           "ticks": "",
           "title": {
            "standoff": 15
           },
           "zerolinecolor": "white",
           "zerolinewidth": 2
          },
          "yaxis": {
           "automargin": true,
           "gridcolor": "white",
           "linecolor": "white",
           "ticks": "",
           "title": {
            "standoff": 15
           },
           "zerolinecolor": "white",
           "zerolinewidth": 2
          }
         }
        }
       }
      },
      "image/png": "[encoded data removed]",
      "text/html": [
       "<div>                            <div id=\"0938f52f-23dd-485c-bff8-1f7f08d39348\" class=\"plotly-graph-div\" style=\"height:525px; width:100%;\"></div>            <script type=\"text/javascript\">                require([\"plotly\"], function(Plotly) {                    window.PLOTLYENV=window.PLOTLYENV || {};                                    if (document.getElementById(\"0938f52f-23dd-485c-bff8-1f7f08d39348\")) {                    Plotly.newPlot(                        \"0938f52f-23dd-485c-bff8-1f7f08d39348\",                        [{\"branchvalues\":\"total\",\"customdata\":[[5,5.0],[\"(?)\",4.565789473684211],[\"(?)\",4.6103896103896105],[\"(?)\",5.20952380952381],[\"(?)\",4.853146853146853],[\"(?)\",4.338541666666667],[\"(?)\",4.840236686390533],[\"(?)\",4.352941176470588],[\"(?)\",5.763636363636364],[\"(?)\",5.413793103448276],[\"(?)\",5.150943396226415],[\"(?)\",4.90625],[\"(?)\",4.509090909090909],[\"(?)\",4.649122807017544],[\"(?)\",5.0],[\"(?)\",3.875],[\"(?)\",3.7962962962962963],[\"(?)\",4.777777777777778],[\"(?)\",5.931034482758621],[\"(?)\",5.066666666666666],[\"(?)\",5.571428571428571],[\"(?)\",4.6],[5,2.0],[\"(?)\",4.709933774834437],[\"(?)\",4.926261319534282]],\"domain\":{\"x\":[0.0,1.0],\"y\":[0.0,1.0]},\"hovertemplate\":\"labels=%{label}<br>openness=%{value}<br>parent=%{parent}<br>id=%{id}<br>extraversion=%{customdata[0]}<br>agreeableness=%{color}<extra></extra>\",\"ids\":[\"Female/5\",\"Female/17\",\"Male/17\",\"Female/18\",\"Male/18\",\"Female/19\",\"Male/19\",\"Female/20\",\"Male/20\",\"Female/21\",\"Male/21\",\"Female/22\",\"Male/22\",\"Female/23\",\"Male/23\",\"Female/24\",\"Male/24\",\"Female/25\",\"Male/25\",\"Female/26\",\"Male/26\",\"Male/27\",\"Male/28\",\"Female\",\"Male\"],\"labels\":[\"5\",\"17\",\"17\",\"18\",\"18\",\"19\",\"19\",\"20\",\"20\",\"21\",\"21\",\"22\",\"22\",\"23\",\"23\",\"24\",\"24\",\"25\",\"25\",\"26\",\"26\",\"27\",\"28\",\"Female\",\"Male\"],\"marker\":{\"coloraxis\":\"coloraxis\",\"colors\":[5.0,4.565789473684211,4.6103896103896105,5.20952380952381,4.853146853146853,4.338541666666667,4.840236686390533,4.352941176470588,5.763636363636364,5.413793103448276,5.150943396226415,4.90625,4.509090909090909,4.649122807017544,5.0,3.875,3.7962962962962963,4.777777777777778,5.931034482758621,5.066666666666666,5.571428571428571,4.6,2.0,4.709933774834437,4.926261319534282]},\"name\":\"\",\"parents\":[\"Female\",\"Female\",\"Male\",\"Female\",\"Male\",\"Female\",\"Male\",\"Female\",\"Male\",\"Female\",\"Male\",\"Female\",\"Male\",\"Female\",\"Male\",\"Female\",\"Male\",\"Female\",\"Male\",\"Female\",\"Male\",\"Male\",\"Male\",\"\",\"\"],\"values\":[5,76,77,105,143,192,169,85,110,87,53,64,55,57,60,24,54,45,29,15,14,5,4,755,773],\"type\":\"sunburst\"}],                        {\"template\":{\"data\":{\"bar\":[{\"error_x\":{\"color\":\"#2a3f5f\"},\"error_y\":{\"color\":\"#2a3f5f\"},\"marker\":{\"line\":{\"color\":\"#E5ECF6\",\"width\":0.5},\"pattern\":{\"fillmode\":\"overlay\",\"size\":10,\"solidity\":0.2}},\"type\":\"bar\"}],\"barpolar\":[{\"marker\":{\"line\":{\"color\":\"#E5ECF6\",\"width\":0.5},\"pattern\":{\"fillmode\":\"overlay\",\"size\":10,\"solidity\":0.2}},\"type\":\"barpolar\"}],\"carpet\":[{\"aaxis\":{\"endlinecolor\":\"#2a3f5f\",\"gridcolor\":\"white\",\"linecolor\":\"white\",\"minorgridcolor\":\"white\",\"startlinecolor\":\"#2a3f5f\"},\"baxis\":{\"endlinecolor\":\"#2a3f5f\",\"gridcolor\":\"white\",\"linecolor\":\"white\",\"minorgridcolor\":\"white\",\"startlinecolor\":\"#2a3f5f\"},\"type\":\"carpet\"}],\"choropleth\":[{\"colorbar\":{\"outlinewidth\":0,\"ticks\":\"\"},\"type\":\"choropleth\"}],\"contour\":[{\"colorbar\":{\"outlinewidth\":0,\"ticks\":\"\"},\"colorscale\":[[0.0,\"#0d0887\"],[0.1111111111111111,\"#46039f\"],[0.2222222222222222,\"#7201a8\"],[0.3333333333333333,\"#9c179e\"],[0.4444444444444444,\"#bd3786\"],[0.5555555555555556,\"#d8576b\"],[0.6666666666666666,\"#ed7953\"],[0.7777777777777778,\"#fb9f3a\"],[0.8888888888888888,\"#fdca26\"],[1.0,\"#f0f921\"]],\"type\":\"contour\"}],\"contourcarpet\":[{\"colorbar\":{\"outlinewidth\":0,\"ticks\":\"\"},\"type\":\"contourcarpet\"}],\"heatmap\":[{\"colorbar\":{\"outlinewidth\":0,\"ticks\":\"\"},\"colorscale\":[[0.0,\"#0d0887\"],[0.1111111111111111,\"#46039f\"],[0.2222222222222222,\"#7201a8\"],[0.3333333333333333,\"#9c179e\"],[0.4444444444444444,\"#bd3786\"],[0.5555555555555556,\"#d8576b\"],[0.6666666666666666,\"#ed7953\"],[0.7777777777777778,\"#fb9f3a\"],[0.8888888888888888,\"#fdca26\"],[1.0,\"#f0f921\"]],\"type\":\"heatmap\"}],\"heatmapgl\":[{\"colorbar\":{\"outlinewidth\":0,\"ticks\":\"\"},\"colorscale\":[[0.0,\"#0d0887\"],[0.1111111111111111,\"#46039f\"],[0.2222222222222222,\"#7201a8\"],[0.3333333333333333,\"#9c179e\"],[0.4444444444444444,\"#bd3786\"],[0.5555555555555556,\"#d8576b\"],[0.6666666666666666,\"#ed7953\"],[0.7777777777777778,\"#fb9f3a\"],[0.8888888888888888,\"#fdca26\"],[1.0,\"#f0f921\"]],\"type\":\"heatmapgl\"}],\"histogram\":[{\"marker\":{\"pattern\":{\"fillmode\":\"overlay\",\"size\":10,\"solidity\":0.2}},\"type\":\"histogram\"}],\"histogram2d\":[{\"colorbar\":{\"outlinewidth\":0,\"ticks\":\"\"},\"colorscale\":[[0.0,\"#0d0887\"],[0.1111111111111111,\"#46039f\"],[0.2222222222222222,\"#7201a8\"],[0.3333333333333333,\"#9c179e\"],[0.4444444444444444,\"#bd3786\"],[0.5555555555555556,\"#d8576b\"],[0.6666666666666666,\"#ed7953\"],[0.7777777777777778,\"#fb9f3a\"],[0.8888888888888888,\"#fdca26\"],[1.0,\"#f0f921\"]],\"type\":\"histogram2d\"}],\"histogram2dcontour\":[{\"colorbar\":{\"outlinewidth\":0,\"ticks\":\"\"},\"colorscale\":[[0.0,\"#0d0887\"],[0.1111111111111111,\"#46039f\"],[0.2222222222222222,\"#7201a8\"],[0.3333333333333333,\"#9c179e\"],[0.4444444444444444,\"#bd3786\"],[0.5555555555555556,\"#d8576b\"],[0.6666666666666666,\"#ed7953\"],[0.7777777777777778,\"#fb9f3a\"],[0.8888888888888888,\"#fdca26\"],[1.0,\"#f0f921\"]],\"type\":\"histogram2dcontour\"}],\"mesh3d\":[{\"colorbar\":{\"outlinewidth\":0,\"ticks\":\"\"},\"type\":\"mesh3d\"}],\"parcoords\":[{\"line\":{\"colorbar\":{\"outlinewidth\":0,\"ticks\":\"\"}},\"type\":\"parcoords\"}],\"pie\":[{\"automargin\":true,\"type\":\"pie\"}],\"scatter\":[{\"marker\":{\"colorbar\":{\"outlinewidth\":0,\"ticks\":\"\"}},\"type\":\"scatter\"}],\"scatter3d\":[{\"line\":{\"colorbar\":{\"outlinewidth\":0,\"ticks\":\"\"}},\"marker\":{\"colorbar\":{\"outlinewidth\":0,\"ticks\":\"\"}},\"type\":\"scatter3d\"}],\"scattercarpet\":[{\"marker\":{\"colorbar\":{\"outlinewidth\":0,\"ticks\":\"\"}},\"type\":\"scattercarpet\"}],\"scattergeo\":[{\"marker\":{\"colorbar\":{\"outlinewidth\":0,\"ticks\":\"\"}},\"type\":\"scattergeo\"}],\"scattergl\":[{\"marker\":{\"colorbar\":{\"outlinewidth\":0,\"ticks\":\"\"}},\"type\":\"scattergl\"}],\"scattermapbox\":[{\"marker\":{\"colorbar\":{\"outlinewidth\":0,\"ticks\":\"\"}},\"type\":\"scattermapbox\"}],\"scatterpolar\":[{\"marker\":{\"colorbar\":{\"outlinewidth\":0,\"ticks\":\"\"}},\"type\":\"scatterpolar\"}],\"scatterpolargl\":[{\"marker\":{\"colorbar\":{\"outlinewidth\":0,\"ticks\":\"\"}},\"type\":\"scatterpolargl\"}],\"scatterternary\":[{\"marker\":{\"colorbar\":{\"outlinewidth\":0,\"ticks\":\"\"}},\"type\":\"scatterternary\"}],\"surface\":[{\"colorbar\":{\"outlinewidth\":0,\"ticks\":\"\"},\"colorscale\":[[0.0,\"#0d0887\"],[0.1111111111111111,\"#46039f\"],[0.2222222222222222,\"#7201a8\"],[0.3333333333333333,\"#9c179e\"],[0.4444444444444444,\"#bd3786\"],[0.5555555555555556,\"#d8576b\"],[0.6666666666666666,\"#ed7953\"],[0.7777777777777778,\"#fb9f3a\"],[0.8888888888888888,\"#fdca26\"],[1.0,\"#f0f921\"]],\"type\":\"surface\"}],\"table\":[{\"cells\":{\"fill\":{\"color\":\"#EBF0F8\"},\"line\":{\"color\":\"white\"}},\"header\":{\"fill\":{\"color\":\"#C8D4E3\"},\"line\":{\"color\":\"white\"}},\"type\":\"table\"}]},\"layout\":{\"annotationdefaults\":{\"arrowcolor\":\"#2a3f5f\",\"arrowhead\":0,\"arrowwidth\":1},\"autotypenumbers\":\"strict\",\"coloraxis\":{\"colorbar\":{\"outlinewidth\":0,\"ticks\":\"\"}},\"colorscale\":{\"diverging\":[[0,\"#8e0152\"],[0.1,\"#c51b7d\"],[0.2,\"#de77ae\"],[0.3,\"#f1b6da\"],[0.4,\"#fde0ef\"],[0.5,\"#f7f7f7\"],[0.6,\"#e6f5d0\"],[0.7,\"#b8e186\"],[0.8,\"#7fbc41\"],[0.9,\"#4d9221\"],[1,\"#276419\"]],\"sequential\":[[0.0,\"#0d0887\"],[0.1111111111111111,\"#46039f\"],[0.2222222222222222,\"#7201a8\"],[0.3333333333333333,\"#9c179e\"],[0.4444444444444444,\"#bd3786\"],[0.5555555555555556,\"#d8576b\"],[0.6666666666666666,\"#ed7953\"],[0.7777777777777778,\"#fb9f3a\"],[0.8888888888888888,\"#fdca26\"],[1.0,\"#f0f921\"]],\"sequentialminus\":[[0.0,\"#0d0887\"],[0.1111111111111111,\"#46039f\"],[0.2222222222222222,\"#7201a8\"],[0.3333333333333333,\"#9c179e\"],[0.4444444444444444,\"#bd3786\"],[0.5555555555555556,\"#d8576b\"],[0.6666666666666666,\"#ed7953\"],[0.7777777777777778,\"#fb9f3a\"],[0.8888888888888888,\"#fdca26\"],[1.0,\"#f0f921\"]]},\"colorway\":[\"#636efa\",\"#EF553B\",\"#00cc96\",\"#ab63fa\",\"#FFA15A\",\"#19d3f3\",\"#FF6692\",\"#B6E880\",\"#FF97FF\",\"#FECB52\"],\"font\":{\"color\":\"#2a3f5f\"},\"geo\":{\"bgcolor\":\"white\",\"lakecolor\":\"white\",\"landcolor\":\"#E5ECF6\",\"showlakes\":true,\"showland\":true,\"subunitcolor\":\"white\"},\"hoverlabel\":{\"align\":\"left\"},\"hovermode\":\"closest\",\"mapbox\":{\"style\":\"light\"},\"paper_bgcolor\":\"white\",\"plot_bgcolor\":\"#E5ECF6\",\"polar\":{\"angularaxis\":{\"gridcolor\":\"white\",\"linecolor\":\"white\",\"ticks\":\"\"},\"bgcolor\":\"#E5ECF6\",\"radialaxis\":{\"gridcolor\":\"white\",\"linecolor\":\"white\",\"ticks\":\"\"}},\"scene\":{\"xaxis\":{\"backgroundcolor\":\"#E5ECF6\",\"gridcolor\":\"white\",\"gridwidth\":2,\"linecolor\":\"white\",\"showbackground\":true,\"ticks\":\"\",\"zerolinecolor\":\"white\"},\"yaxis\":{\"backgroundcolor\":\"#E5ECF6\",\"gridcolor\":\"white\",\"gridwidth\":2,\"linecolor\":\"white\",\"showbackground\":true,\"ticks\":\"\",\"zerolinecolor\":\"white\"},\"zaxis\":{\"backgroundcolor\":\"#E5ECF6\",\"gridcolor\":\"white\",\"gridwidth\":2,\"linecolor\":\"white\",\"showbackground\":true,\"ticks\":\"\",\"zerolinecolor\":\"white\"}},\"shapedefaults\":{\"line\":{\"color\":\"#2a3f5f\"}},\"ternary\":{\"aaxis\":{\"gridcolor\":\"white\",\"linecolor\":\"white\",\"ticks\":\"\"},\"baxis\":{\"gridcolor\":\"white\",\"linecolor\":\"white\",\"ticks\":\"\"},\"bgcolor\":\"#E5ECF6\",\"caxis\":{\"gridcolor\":\"white\",\"linecolor\":\"white\",\"ticks\":\"\"}},\"title\":{\"x\":0.05},\"xaxis\":{\"automargin\":true,\"gridcolor\":\"white\",\"linecolor\":\"white\",\"ticks\":\"\",\"title\":{\"standoff\":15},\"zerolinecolor\":\"white\",\"zerolinewidth\":2},\"yaxis\":{\"automargin\":true,\"gridcolor\":\"white\",\"linecolor\":\"white\",\"ticks\":\"\",\"title\":{\"standoff\":15},\"zerolinecolor\":\"white\",\"zerolinewidth\":2}}},\"coloraxis\":{\"colorbar\":{\"title\":{\"text\":\"agreeableness\"}},\"colorscale\":[[0.0,\"#0d0887\"],[0.1111111111111111,\"#46039f\"],[0.2222222222222222,\"#7201a8\"],[0.3333333333333333,\"#9c179e\"],[0.4444444444444444,\"#bd3786\"],[0.5555555555555556,\"#d8576b\"],[0.6666666666666666,\"#ed7953\"],[0.7777777777777778,\"#fb9f3a\"],[0.8888888888888888,\"#fdca26\"],[1.0,\"#f0f921\"]]},\"legend\":{\"tracegroupgap\":0},\"margin\":{\"t\":60}},                        {\"responsive\": true}                    ).then(function(){\n",
       "                            \n",
       "var gd = document.getElementById('0938f52f-23dd-485c-bff8-1f7f08d39348');\n",
       "var x = new MutationObserver(function (mutations, observer) {{\n",
       "        var display = window.getComputedStyle(gd).display;\n",
       "        if (!display || display === 'none') {{\n",
       "            console.log([gd, 'removed!']);\n",
       "            Plotly.purge(gd);\n",
       "            observer.disconnect();\n",
       "        }}\n",
       "}});\n",
       "\n",
       "// Listen for the removal of the full notebook cells\n",
       "var notebookContainer = gd.closest('#notebook-container');\n",
       "if (notebookContainer) {{\n",
       "    x.observe(notebookContainer, {childList: true});\n",
       "}}\n",
       "\n",
       "// Listen for the clearing of the current output cell\n",
       "var outputEl = gd.closest('.output');\n",
       "if (outputEl) {{\n",
       "    x.observe(outputEl, {childList: true});\n",
       "}}\n",
       "\n",
       "                        })                };                });            </script>        </div>"
      ]
     },
     "metadata": {},
     "output_type": "display_data"
    }
   ],
   "source": [
    "fig = px.sunburst(df, path=['Gender', 'Age'], values='openness',\n",
    "                  color='agreeableness', hover_data=['extraversion'])\n",
    "fig.show()"
   ]
  }
 ],
 "metadata": {
  "kernelspec": {
   "display_name": "Python 3 (ipykernel)",
   "language": "python",
   "name": "python3"
  },
  "language_info": {
   "codemirror_mode": {
    "name": "ipython",
    "version": 3
   },
   "file_extension": ".py",
   "mimetype": "text/x-python",
   "name": "python",
   "nbconvert_exporter": "python",
   "pygments_lexer": "ipython3",
   "version": "3.9.7"
  }
 },
 "nbformat": 4,
 "nbformat_minor": 5
}
